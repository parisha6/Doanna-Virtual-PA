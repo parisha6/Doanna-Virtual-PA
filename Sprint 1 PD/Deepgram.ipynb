{
  "nbformat": 4,
  "nbformat_minor": 0,
  "metadata": {
    "colab": {
      "provenance": []
    },
    "kernelspec": {
      "name": "python3",
      "display_name": "Python 3"
    },
    "language_info": {
      "name": "python"
    }
  },
  "cells": [
    {
      "cell_type": "code",
      "execution_count": null,
      "metadata": {
        "colab": {
          "base_uri": "https://localhost:8080/"
        },
        "id": "aan4oSLnY7eG",
        "outputId": "fd74ea4e-73de-4255-eb4a-a40237516a4e"
      },
      "outputs": [
        {
          "output_type": "stream",
          "name": "stdout",
          "text": [
            "Collecting deepgram-sdk\n",
            "  Downloading deepgram_sdk-3.7.3-py3-none-any.whl.metadata (13 kB)\n",
            "Collecting httpx>=0.25.2 (from deepgram-sdk)\n",
            "  Downloading httpx-0.27.2-py3-none-any.whl.metadata (7.1 kB)\n",
            "Collecting websockets>=12.0 (from deepgram-sdk)\n",
            "  Downloading websockets-13.1-cp310-cp310-manylinux_2_5_x86_64.manylinux1_x86_64.manylinux_2_17_x86_64.manylinux2014_x86_64.whl.metadata (6.8 kB)\n",
            "Collecting dataclasses-json>=0.6.3 (from deepgram-sdk)\n",
            "  Downloading dataclasses_json-0.6.7-py3-none-any.whl.metadata (25 kB)\n",
            "Requirement already satisfied: typing-extensions>=4.9.0 in /usr/local/lib/python3.10/dist-packages (from deepgram-sdk) (4.12.2)\n",
            "Requirement already satisfied: aiohttp>=3.9.1 in /usr/local/lib/python3.10/dist-packages (from deepgram-sdk) (3.10.8)\n",
            "Collecting aiofiles>=23.2.1 (from deepgram-sdk)\n",
            "  Downloading aiofiles-24.1.0-py3-none-any.whl.metadata (10 kB)\n",
            "Collecting aenum>=3.1.0 (from deepgram-sdk)\n",
            "  Downloading aenum-3.1.15-py3-none-any.whl.metadata (3.7 kB)\n",
            "Collecting deprecation>=2.1.0 (from deepgram-sdk)\n",
            "  Downloading deprecation-2.1.0-py2.py3-none-any.whl.metadata (4.6 kB)\n",
            "Requirement already satisfied: aiohappyeyeballs>=2.3.0 in /usr/local/lib/python3.10/dist-packages (from aiohttp>=3.9.1->deepgram-sdk) (2.4.3)\n",
            "Requirement already satisfied: aiosignal>=1.1.2 in /usr/local/lib/python3.10/dist-packages (from aiohttp>=3.9.1->deepgram-sdk) (1.3.1)\n",
            "Requirement already satisfied: attrs>=17.3.0 in /usr/local/lib/python3.10/dist-packages (from aiohttp>=3.9.1->deepgram-sdk) (24.2.0)\n",
            "Requirement already satisfied: frozenlist>=1.1.1 in /usr/local/lib/python3.10/dist-packages (from aiohttp>=3.9.1->deepgram-sdk) (1.4.1)\n",
            "Requirement already satisfied: multidict<7.0,>=4.5 in /usr/local/lib/python3.10/dist-packages (from aiohttp>=3.9.1->deepgram-sdk) (6.1.0)\n",
            "Requirement already satisfied: yarl<2.0,>=1.12.0 in /usr/local/lib/python3.10/dist-packages (from aiohttp>=3.9.1->deepgram-sdk) (1.13.1)\n",
            "Requirement already satisfied: async-timeout<5.0,>=4.0 in /usr/local/lib/python3.10/dist-packages (from aiohttp>=3.9.1->deepgram-sdk) (4.0.3)\n",
            "Collecting marshmallow<4.0.0,>=3.18.0 (from dataclasses-json>=0.6.3->deepgram-sdk)\n",
            "  Downloading marshmallow-3.22.0-py3-none-any.whl.metadata (7.2 kB)\n",
            "Collecting typing-inspect<1,>=0.4.0 (from dataclasses-json>=0.6.3->deepgram-sdk)\n",
            "  Downloading typing_inspect-0.9.0-py3-none-any.whl.metadata (1.5 kB)\n",
            "Requirement already satisfied: packaging in /usr/local/lib/python3.10/dist-packages (from deprecation>=2.1.0->deepgram-sdk) (24.1)\n",
            "Requirement already satisfied: anyio in /usr/local/lib/python3.10/dist-packages (from httpx>=0.25.2->deepgram-sdk) (3.7.1)\n",
            "Requirement already satisfied: certifi in /usr/local/lib/python3.10/dist-packages (from httpx>=0.25.2->deepgram-sdk) (2024.8.30)\n",
            "Collecting httpcore==1.* (from httpx>=0.25.2->deepgram-sdk)\n",
            "  Downloading httpcore-1.0.6-py3-none-any.whl.metadata (21 kB)\n",
            "Requirement already satisfied: idna in /usr/local/lib/python3.10/dist-packages (from httpx>=0.25.2->deepgram-sdk) (3.10)\n",
            "Requirement already satisfied: sniffio in /usr/local/lib/python3.10/dist-packages (from httpx>=0.25.2->deepgram-sdk) (1.3.1)\n",
            "Collecting h11<0.15,>=0.13 (from httpcore==1.*->httpx>=0.25.2->deepgram-sdk)\n",
            "  Downloading h11-0.14.0-py3-none-any.whl.metadata (8.2 kB)\n",
            "Collecting mypy-extensions>=0.3.0 (from typing-inspect<1,>=0.4.0->dataclasses-json>=0.6.3->deepgram-sdk)\n",
            "  Downloading mypy_extensions-1.0.0-py3-none-any.whl.metadata (1.1 kB)\n",
            "Requirement already satisfied: exceptiongroup in /usr/local/lib/python3.10/dist-packages (from anyio->httpx>=0.25.2->deepgram-sdk) (1.2.2)\n",
            "Downloading deepgram_sdk-3.7.3-py3-none-any.whl (130 kB)\n",
            "\u001b[2K   \u001b[90m━━━━━━━━━━━━━━━━━━━━━━━━━━━━━━━━━━━━━━━━\u001b[0m \u001b[32m130.3/130.3 kB\u001b[0m \u001b[31m2.8 MB/s\u001b[0m eta \u001b[36m0:00:00\u001b[0m\n",
            "\u001b[?25hDownloading aenum-3.1.15-py3-none-any.whl (137 kB)\n",
            "\u001b[2K   \u001b[90m━━━━━━━━━━━━━━━━━━━━━━━━━━━━━━━━━━━━━━━━\u001b[0m \u001b[32m137.6/137.6 kB\u001b[0m \u001b[31m7.0 MB/s\u001b[0m eta \u001b[36m0:00:00\u001b[0m\n",
            "\u001b[?25hDownloading aiofiles-24.1.0-py3-none-any.whl (15 kB)\n",
            "Downloading dataclasses_json-0.6.7-py3-none-any.whl (28 kB)\n",
            "Downloading deprecation-2.1.0-py2.py3-none-any.whl (11 kB)\n",
            "Downloading httpx-0.27.2-py3-none-any.whl (76 kB)\n",
            "\u001b[2K   \u001b[90m━━━━━━━━━━━━━━━━━━━━━━━━━━━━━━━━━━━━━━━━\u001b[0m \u001b[32m76.4/76.4 kB\u001b[0m \u001b[31m4.7 MB/s\u001b[0m eta \u001b[36m0:00:00\u001b[0m\n",
            "\u001b[?25hDownloading httpcore-1.0.6-py3-none-any.whl (78 kB)\n",
            "\u001b[2K   \u001b[90m━━━━━━━━━━━━━━━━━━━━━━━━━━━━━━━━━━━━━━━━\u001b[0m \u001b[32m78.0/78.0 kB\u001b[0m \u001b[31m3.5 MB/s\u001b[0m eta \u001b[36m0:00:00\u001b[0m\n",
            "\u001b[?25hDownloading websockets-13.1-cp310-cp310-manylinux_2_5_x86_64.manylinux1_x86_64.manylinux_2_17_x86_64.manylinux2014_x86_64.whl (164 kB)\n",
            "\u001b[2K   \u001b[90m━━━━━━━━━━━━━━━━━━━━━━━━━━━━━━━━━━━━━━━━\u001b[0m \u001b[32m164.1/164.1 kB\u001b[0m \u001b[31m7.5 MB/s\u001b[0m eta \u001b[36m0:00:00\u001b[0m\n",
            "\u001b[?25hDownloading marshmallow-3.22.0-py3-none-any.whl (49 kB)\n",
            "\u001b[2K   \u001b[90m━━━━━━━━━━━━━━━━━━━━━━━━━━━━━━━━━━━━━━━━\u001b[0m \u001b[32m49.3/49.3 kB\u001b[0m \u001b[31m2.6 MB/s\u001b[0m eta \u001b[36m0:00:00\u001b[0m\n",
            "\u001b[?25hDownloading typing_inspect-0.9.0-py3-none-any.whl (8.8 kB)\n",
            "Downloading h11-0.14.0-py3-none-any.whl (58 kB)\n",
            "\u001b[2K   \u001b[90m━━━━━━━━━━━━━━━━━━━━━━━━━━━━━━━━━━━━━━━━\u001b[0m \u001b[32m58.3/58.3 kB\u001b[0m \u001b[31m3.1 MB/s\u001b[0m eta \u001b[36m0:00:00\u001b[0m\n",
            "\u001b[?25hDownloading mypy_extensions-1.0.0-py3-none-any.whl (4.7 kB)\n",
            "Installing collected packages: aenum, websockets, mypy-extensions, marshmallow, h11, deprecation, aiofiles, typing-inspect, httpcore, httpx, dataclasses-json, deepgram-sdk\n",
            "Successfully installed aenum-3.1.15 aiofiles-24.1.0 dataclasses-json-0.6.7 deepgram-sdk-3.7.3 deprecation-2.1.0 h11-0.14.0 httpcore-1.0.6 httpx-0.27.2 marshmallow-3.22.0 mypy-extensions-1.0.0 typing-inspect-0.9.0 websockets-13.1\n"
          ]
        }
      ],
      "source": [
        "pip install deepgram-sdk\n"
      ]
    },
    {
      "cell_type": "markdown",
      "source": [
        "Install Sounddevice and SciPy\n"
      ],
      "metadata": {
        "id": "xd6sMeEzZIGt"
      }
    },
    {
      "cell_type": "code",
      "source": [
        "pip install deepgram-sdk sounddevice scipy\n"
      ],
      "metadata": {
        "colab": {
          "base_uri": "https://localhost:8080/"
        },
        "id": "1o9975TGZI71",
        "outputId": "97f16760-de5b-4b15-9f6c-873377c1eaba"
      },
      "execution_count": null,
      "outputs": [
        {
          "output_type": "stream",
          "name": "stdout",
          "text": [
            "Requirement already satisfied: deepgram-sdk in /usr/local/lib/python3.10/dist-packages (3.7.3)\n",
            "Collecting sounddevice\n",
            "  Downloading sounddevice-0.5.0-py3-none-any.whl.metadata (1.4 kB)\n",
            "Requirement already satisfied: scipy in /usr/local/lib/python3.10/dist-packages (1.13.1)\n",
            "Requirement already satisfied: httpx>=0.25.2 in /usr/local/lib/python3.10/dist-packages (from deepgram-sdk) (0.27.2)\n",
            "Requirement already satisfied: websockets>=12.0 in /usr/local/lib/python3.10/dist-packages (from deepgram-sdk) (13.1)\n",
            "Requirement already satisfied: dataclasses-json>=0.6.3 in /usr/local/lib/python3.10/dist-packages (from deepgram-sdk) (0.6.7)\n",
            "Requirement already satisfied: typing-extensions>=4.9.0 in /usr/local/lib/python3.10/dist-packages (from deepgram-sdk) (4.12.2)\n",
            "Requirement already satisfied: aiohttp>=3.9.1 in /usr/local/lib/python3.10/dist-packages (from deepgram-sdk) (3.10.8)\n",
            "Requirement already satisfied: aiofiles>=23.2.1 in /usr/local/lib/python3.10/dist-packages (from deepgram-sdk) (24.1.0)\n",
            "Requirement already satisfied: aenum>=3.1.0 in /usr/local/lib/python3.10/dist-packages (from deepgram-sdk) (3.1.15)\n",
            "Requirement already satisfied: deprecation>=2.1.0 in /usr/local/lib/python3.10/dist-packages (from deepgram-sdk) (2.1.0)\n",
            "Requirement already satisfied: CFFI>=1.0 in /usr/local/lib/python3.10/dist-packages (from sounddevice) (1.17.1)\n",
            "Requirement already satisfied: numpy<2.3,>=1.22.4 in /usr/local/lib/python3.10/dist-packages (from scipy) (1.26.4)\n",
            "Requirement already satisfied: aiohappyeyeballs>=2.3.0 in /usr/local/lib/python3.10/dist-packages (from aiohttp>=3.9.1->deepgram-sdk) (2.4.3)\n",
            "Requirement already satisfied: aiosignal>=1.1.2 in /usr/local/lib/python3.10/dist-packages (from aiohttp>=3.9.1->deepgram-sdk) (1.3.1)\n",
            "Requirement already satisfied: attrs>=17.3.0 in /usr/local/lib/python3.10/dist-packages (from aiohttp>=3.9.1->deepgram-sdk) (24.2.0)\n",
            "Requirement already satisfied: frozenlist>=1.1.1 in /usr/local/lib/python3.10/dist-packages (from aiohttp>=3.9.1->deepgram-sdk) (1.4.1)\n",
            "Requirement already satisfied: multidict<7.0,>=4.5 in /usr/local/lib/python3.10/dist-packages (from aiohttp>=3.9.1->deepgram-sdk) (6.1.0)\n",
            "Requirement already satisfied: yarl<2.0,>=1.12.0 in /usr/local/lib/python3.10/dist-packages (from aiohttp>=3.9.1->deepgram-sdk) (1.13.1)\n",
            "Requirement already satisfied: async-timeout<5.0,>=4.0 in /usr/local/lib/python3.10/dist-packages (from aiohttp>=3.9.1->deepgram-sdk) (4.0.3)\n",
            "Requirement already satisfied: pycparser in /usr/local/lib/python3.10/dist-packages (from CFFI>=1.0->sounddevice) (2.22)\n",
            "Requirement already satisfied: marshmallow<4.0.0,>=3.18.0 in /usr/local/lib/python3.10/dist-packages (from dataclasses-json>=0.6.3->deepgram-sdk) (3.22.0)\n",
            "Requirement already satisfied: typing-inspect<1,>=0.4.0 in /usr/local/lib/python3.10/dist-packages (from dataclasses-json>=0.6.3->deepgram-sdk) (0.9.0)\n",
            "Requirement already satisfied: packaging in /usr/local/lib/python3.10/dist-packages (from deprecation>=2.1.0->deepgram-sdk) (24.1)\n",
            "Requirement already satisfied: anyio in /usr/local/lib/python3.10/dist-packages (from httpx>=0.25.2->deepgram-sdk) (3.7.1)\n",
            "Requirement already satisfied: certifi in /usr/local/lib/python3.10/dist-packages (from httpx>=0.25.2->deepgram-sdk) (2024.8.30)\n",
            "Requirement already satisfied: httpcore==1.* in /usr/local/lib/python3.10/dist-packages (from httpx>=0.25.2->deepgram-sdk) (1.0.6)\n",
            "Requirement already satisfied: idna in /usr/local/lib/python3.10/dist-packages (from httpx>=0.25.2->deepgram-sdk) (3.10)\n",
            "Requirement already satisfied: sniffio in /usr/local/lib/python3.10/dist-packages (from httpx>=0.25.2->deepgram-sdk) (1.3.1)\n",
            "Requirement already satisfied: h11<0.15,>=0.13 in /usr/local/lib/python3.10/dist-packages (from httpcore==1.*->httpx>=0.25.2->deepgram-sdk) (0.14.0)\n",
            "Requirement already satisfied: mypy-extensions>=0.3.0 in /usr/local/lib/python3.10/dist-packages (from typing-inspect<1,>=0.4.0->dataclasses-json>=0.6.3->deepgram-sdk) (1.0.0)\n",
            "Requirement already satisfied: exceptiongroup in /usr/local/lib/python3.10/dist-packages (from anyio->httpx>=0.25.2->deepgram-sdk) (1.2.2)\n",
            "Downloading sounddevice-0.5.0-py3-none-any.whl (32 kB)\n",
            "Installing collected packages: sounddevice\n",
            "Successfully installed sounddevice-0.5.0\n"
          ]
        }
      ]
    },
    {
      "cell_type": "code",
      "source": [],
      "metadata": {
        "colab": {
          "base_uri": "https://localhost:8080/",
          "height": 332
        },
        "id": "zqTcMkBdZnY-",
        "outputId": "b1448da2-6f12-4447-aab2-ff0f5ea9673b"
      },
      "execution_count": null,
      "outputs": [
        {
          "output_type": "error",
          "ename": "OSError",
          "evalue": "PortAudio library not found",
          "traceback": [
            "\u001b[0;31m---------------------------------------------------------------------------\u001b[0m",
            "\u001b[0;31mOSError\u001b[0m                                   Traceback (most recent call last)",
            "\u001b[0;32m<ipython-input-3-f8b4d62b0c64>\u001b[0m in \u001b[0;36m<cell line: 1>\u001b[0;34m()\u001b[0m\n\u001b[0;32m----> 1\u001b[0;31m \u001b[0;32mimport\u001b[0m \u001b[0msounddevice\u001b[0m \u001b[0;32mas\u001b[0m \u001b[0msd\u001b[0m\u001b[0;34m\u001b[0m\u001b[0;34m\u001b[0m\u001b[0m\n\u001b[0m\u001b[1;32m      2\u001b[0m \u001b[0;32mfrom\u001b[0m \u001b[0mscipy\u001b[0m\u001b[0;34m.\u001b[0m\u001b[0mio\u001b[0m\u001b[0;34m.\u001b[0m\u001b[0mwavfile\u001b[0m \u001b[0;32mimport\u001b[0m \u001b[0mwrite\u001b[0m\u001b[0;34m\u001b[0m\u001b[0;34m\u001b[0m\u001b[0m\n\u001b[1;32m      3\u001b[0m \u001b[0;32mimport\u001b[0m \u001b[0masyncio\u001b[0m\u001b[0;34m\u001b[0m\u001b[0;34m\u001b[0m\u001b[0m\n\u001b[1;32m      4\u001b[0m \u001b[0;32mfrom\u001b[0m \u001b[0mdeepgram\u001b[0m \u001b[0;32mimport\u001b[0m \u001b[0mDeepgram\u001b[0m\u001b[0;34m\u001b[0m\u001b[0;34m\u001b[0m\u001b[0m\n\u001b[1;32m      5\u001b[0m \u001b[0;34m\u001b[0m\u001b[0m\n",
            "\u001b[0;32m/usr/local/lib/python3.10/dist-packages/sounddevice.py\u001b[0m in \u001b[0;36m<module>\u001b[0;34m\u001b[0m\n\u001b[1;32m     69\u001b[0m             \u001b[0;32mbreak\u001b[0m\u001b[0;34m\u001b[0m\u001b[0;34m\u001b[0m\u001b[0m\n\u001b[1;32m     70\u001b[0m     \u001b[0;32melse\u001b[0m\u001b[0;34m:\u001b[0m\u001b[0;34m\u001b[0m\u001b[0;34m\u001b[0m\u001b[0m\n\u001b[0;32m---> 71\u001b[0;31m         \u001b[0;32mraise\u001b[0m \u001b[0mOSError\u001b[0m\u001b[0;34m(\u001b[0m\u001b[0;34m'PortAudio library not found'\u001b[0m\u001b[0;34m)\u001b[0m\u001b[0;34m\u001b[0m\u001b[0;34m\u001b[0m\u001b[0m\n\u001b[0m\u001b[1;32m     72\u001b[0m     \u001b[0m_lib\u001b[0m \u001b[0;34m=\u001b[0m \u001b[0m_ffi\u001b[0m\u001b[0;34m.\u001b[0m\u001b[0mdlopen\u001b[0m\u001b[0;34m(\u001b[0m\u001b[0m_libname\u001b[0m\u001b[0;34m)\u001b[0m\u001b[0;34m\u001b[0m\u001b[0;34m\u001b[0m\u001b[0m\n\u001b[1;32m     73\u001b[0m \u001b[0;32mexcept\u001b[0m \u001b[0mOSError\u001b[0m\u001b[0;34m:\u001b[0m\u001b[0;34m\u001b[0m\u001b[0;34m\u001b[0m\u001b[0m\n",
            "\u001b[0;31mOSError\u001b[0m: PortAudio library not found"
          ]
        }
      ]
    },
    {
      "source": [
        "!pip install portaudio\n",
        "!apt-get install libportaudio2"
      ],
      "cell_type": "code",
      "metadata": {
        "colab": {
          "base_uri": "https://localhost:8080/"
        },
        "id": "sWOc82bkZ4xs",
        "outputId": "d2dfcb7b-0b61-45bd-e952-e79b1b5055ab"
      },
      "execution_count": null,
      "outputs": [
        {
          "output_type": "stream",
          "name": "stdout",
          "text": [
            "\u001b[31mERROR: Could not find a version that satisfies the requirement portaudio (from versions: none)\u001b[0m\u001b[31m\n",
            "\u001b[0m\u001b[31mERROR: No matching distribution found for portaudio\u001b[0m\u001b[31m\n",
            "Reading package lists... Done\n",
            "Building dependency tree... Done\n",
            "Reading state information... Done\n",
            "The following NEW packages will be installed:\n",
            "  libportaudio2\n",
            "0 upgraded, 1 newly installed, 0 to remove and 49 not upgraded.\n",
            "Need to get 65.3 kB of archives.\n",
            "After this operation, 223 kB of additional disk space will be used.\n",
            "Get:1 http://archive.ubuntu.com/ubuntu jammy/universe amd64 libportaudio2 amd64 19.6.0-1.1 [65.3 kB]\n",
            "Fetched 65.3 kB in 1s (103 kB/s)\n",
            "Selecting previously unselected package libportaudio2:amd64.\n",
            "(Reading database ... 123621 files and directories currently installed.)\n",
            "Preparing to unpack .../libportaudio2_19.6.0-1.1_amd64.deb ...\n",
            "Unpacking libportaudio2:amd64 (19.6.0-1.1) ...\n",
            "Setting up libportaudio2:amd64 (19.6.0-1.1) ...\n",
            "Processing triggers for libc-bin (2.35-0ubuntu3.4) ...\n",
            "/sbin/ldconfig.real: /usr/local/lib/libtbb.so.12 is not a symbolic link\n",
            "\n",
            "/sbin/ldconfig.real: /usr/local/lib/libtbbbind_2_0.so.3 is not a symbolic link\n",
            "\n",
            "/sbin/ldconfig.real: /usr/local/lib/libur_adapter_opencl.so.0 is not a symbolic link\n",
            "\n",
            "/sbin/ldconfig.real: /usr/local/lib/libtbbbind.so.3 is not a symbolic link\n",
            "\n",
            "/sbin/ldconfig.real: /usr/local/lib/libtbbbind_2_5.so.3 is not a symbolic link\n",
            "\n",
            "/sbin/ldconfig.real: /usr/local/lib/libur_adapter_level_zero.so.0 is not a symbolic link\n",
            "\n",
            "/sbin/ldconfig.real: /usr/local/lib/libtbbmalloc_proxy.so.2 is not a symbolic link\n",
            "\n",
            "/sbin/ldconfig.real: /usr/local/lib/libtbbmalloc.so.2 is not a symbolic link\n",
            "\n",
            "/sbin/ldconfig.real: /usr/local/lib/libur_loader.so.0 is not a symbolic link\n",
            "\n"
          ]
        }
      ]
    },
    {
      "cell_type": "code",
      "source": [
        "import asyncio\n",
        "import sounddevice as sd\n",
        "import websockets\n",
        "import json\n",
        "from deepgram import Deepgram\n",
        "\n",
        "# Your Deepgram API key\n",
        "DEEPGRAM_API_KEY = 'a983f9ca4ed091a6b86242b903a2c64de3e75bec'\n",
        "\n",
        "# Deepgram endpoint for real-time transcription\n",
        "DEEPGRAM_REALTIME_ENDPOINT = \"wss://api.deepgram.com/v1/listen\"\n",
        "\n",
        "# File to save the transcription\n",
        "TEXT_FILE_PATH = \"transcription.txt\"\n",
        "\n",
        "# Audio settings\n",
        "SAMPLE_RATE = 16000  # Deepgram expects 16kHz audio for real-time\n",
        "CHANNELS = 1  # Mono channel for simplicity\n",
        "DURATION = 10  # Record for 10 seconds\n",
        "\n",
        "# Initialize Deepgram SDK\n",
        "dg_client = Deepgram(DEEPGRAM_API_KEY)\n",
        "\n",
        "# Function to process audio and send to Deepgram for real-time transcription\n",
        "async def transcribe_realtime():\n",
        "    async with websockets.connect(\n",
        "        f\"{DEEPGRAM_REALTIME_ENDPOINT}?access_token={DEEPGRAM_API_KEY}&punctuate=true\"\n",
        "    ) as websocket:\n",
        "\n",
        "        # Function to handle incoming transcription messages from Deepgram\n",
        "        async def receive_transcription():\n",
        "            while True:\n",
        "                message = await websocket.recv()\n",
        "                data = json.loads(message)\n",
        "\n",
        "                # Extract transcription result\n",
        "                if \"channel\" in data:\n",
        "                    transcript = data[\"channel\"][\"alternatives\"][0][\"transcript\"]\n",
        "                    if transcript:\n",
        "                        print(\"Transcription: \", transcript)\n",
        "                        # Save transcription to text file\n",
        "                        with open(TEXT_FILE_PATH, \"a\") as f:\n",
        "                            f.write(transcript + \"\\n\")\n",
        "\n",
        "        # Start receiving transcription data asynchronously\n",
        "        receive_task = asyncio.create_task(receive_transcription())\n",
        "\n",
        "        # Function to send audio data to Deepgram\n",
        "        def callback(indata, frames, time, status):\n",
        "            if status:\n",
        "                print(status, flush=True)\n",
        "            asyncio.run_coroutine_threadsafe(websocket.send(indata), loop)\n",
        "\n",
        "        # Open a stream to record audio\n",
        "        with sd.InputStream(samplerate=SAMPLE_RATE, channels=CHANNELS, dtype='int16', callback=callback):\n",
        "            print(f\"Recording for {DURATION} seconds...\")\n",
        "            sd.sleep(int(DURATION * 1000))  # Record for the specified duration\n",
        "\n",
        "        # Stop receiving transcription data\n",
        "        await websocket.close()\n",
        "\n",
        "        # Wait until receive task completes\n",
        "        await receive_task\n",
        "\n",
        "# Main function to start recording and transcription\n",
        "def main():\n",
        "    loop = asyncio.get_event_loop()\n",
        "    loop.run_until_complete(transcribe_realtime())\n",
        "\n",
        "if __name__ == \"__main__\":\n",
        "    main()\n"
      ],
      "metadata": {
        "colab": {
          "base_uri": "https://localhost:8080/",
          "height": 662
        },
        "id": "LnhvX7PXbJax",
        "outputId": "e439d0f8-9568-4653-81d9-b80de4310b0b"
      },
      "execution_count": null,
      "outputs": [
        {
          "output_type": "error",
          "ename": "Exception",
          "evalue": "\n            FATAL ERROR:\n            You are attempting to instantiate a Deepgram object, which is no longer a class in version 3 of this SDK.\n\n            To fix this issue:\n                1. You need to revert to the previous version 2 of the SDK: pip install deepgram-sdk==2.12.0\n                2. or, update your application's code to use version 3 of this SDK. See the README for more information.\n\n            Things to consider:\n\n                - This Version 3 of the SDK requires Python 3.10 or higher.\n                  Older versions (3.9 and lower) of Python are nearing end-of-life: https://devguide.python.org/versions/\n                  Understand the risks of using a version of Python nearing EOL.\n\n                - Version 2 of the SDK will receive maintenance updates in the form of security fixes only.\n                  No new features will be added to version 2 of the SDK.\n            ",
          "traceback": [
            "\u001b[0;31m---------------------------------------------------------------------------\u001b[0m",
            "\u001b[0;31mException\u001b[0m                                 Traceback (most recent call last)",
            "\u001b[0;32m<ipython-input-14-bd5b85985009>\u001b[0m in \u001b[0;36m<cell line: 22>\u001b[0;34m()\u001b[0m\n\u001b[1;32m     20\u001b[0m \u001b[0;34m\u001b[0m\u001b[0m\n\u001b[1;32m     21\u001b[0m \u001b[0;31m# Initialize Deepgram SDK\u001b[0m\u001b[0;34m\u001b[0m\u001b[0;34m\u001b[0m\u001b[0m\n\u001b[0;32m---> 22\u001b[0;31m \u001b[0mdg_client\u001b[0m \u001b[0;34m=\u001b[0m \u001b[0mDeepgram\u001b[0m\u001b[0;34m(\u001b[0m\u001b[0mDEEPGRAM_API_KEY\u001b[0m\u001b[0;34m)\u001b[0m\u001b[0;34m\u001b[0m\u001b[0;34m\u001b[0m\u001b[0m\n\u001b[0m\u001b[1;32m     23\u001b[0m \u001b[0;34m\u001b[0m\u001b[0m\n\u001b[1;32m     24\u001b[0m \u001b[0;31m# Function to process audio and send to Deepgram for real-time transcription\u001b[0m\u001b[0;34m\u001b[0m\u001b[0;34m\u001b[0m\u001b[0m\n",
            "\u001b[0;32m/usr/local/lib/python3.10/dist-packages/deepgram/client.py\u001b[0m in \u001b[0;36m__init__\u001b[0;34m(self, *anything)\u001b[0m\n\u001b[1;32m    322\u001b[0m \u001b[0;34m\u001b[0m\u001b[0m\n\u001b[1;32m    323\u001b[0m     \u001b[0;32mdef\u001b[0m \u001b[0m__init__\u001b[0m\u001b[0;34m(\u001b[0m\u001b[0mself\u001b[0m\u001b[0;34m,\u001b[0m \u001b[0;34m*\u001b[0m\u001b[0manything\u001b[0m\u001b[0;34m)\u001b[0m\u001b[0;34m:\u001b[0m\u001b[0;34m\u001b[0m\u001b[0;34m\u001b[0m\u001b[0m\n\u001b[0;32m--> 324\u001b[0;31m         raise Exception(\n\u001b[0m\u001b[1;32m    325\u001b[0m             \"\"\"\n\u001b[1;32m    326\u001b[0m             \u001b[0mFATAL\u001b[0m \u001b[0mERROR\u001b[0m\u001b[0;34m:\u001b[0m\u001b[0;34m\u001b[0m\u001b[0;34m\u001b[0m\u001b[0m\n",
            "\u001b[0;31mException\u001b[0m: \n            FATAL ERROR:\n            You are attempting to instantiate a Deepgram object, which is no longer a class in version 3 of this SDK.\n\n            To fix this issue:\n                1. You need to revert to the previous version 2 of the SDK: pip install deepgram-sdk==2.12.0\n                2. or, update your application's code to use version 3 of this SDK. See the README for more information.\n\n            Things to consider:\n\n                - This Version 3 of the SDK requires Python 3.10 or higher.\n                  Older versions (3.9 and lower) of Python are nearing end-of-life: https://devguide.python.org/versions/\n                  Understand the risks of using a version of Python nearing EOL.\n\n                - Version 2 of the SDK will receive maintenance updates in the form of security fixes only.\n                  No new features will be added to version 2 of the SDK.\n            "
          ]
        }
      ]
    },
    {
      "source": [
        "import asyncio\n",
        "import sounddevice as sd\n",
        "import websockets\n",
        "import json\n",
        "from deepgram import DeepgramClient # Changed import\n",
        "\n",
        "# Your Deepgram API key\n",
        "DEEPGRAM_API_KEY = 'a983f9ca4ed091a6b86242b903a2c64de3e75bec'\n",
        "\n",
        "# Deepgram endpoint for real-time transcription\n",
        "DEEPGRAM_REALTIME_ENDPOINT = \"wss://api.deepgram.com/v1/listen\"\n",
        "\n",
        "# File to save the transcription\n",
        "TEXT_FILE_PATH = \"transcription.txt\"\n",
        "\n",
        "# Audio settings\n",
        "SAMPLE_RATE = 16000  # Deepgram expects 16kHz audio for real-time\n",
        "CHANNELS = 1  # Mono channel for simplicity\n",
        "DURATION = 10  # Record for 10 seconds\n",
        "\n",
        "# Initialize Deepgram SDK\n",
        "dg_client = DeepgramClient(api_key=DEEPGRAM_API_KEY) # Changed instantiation\n",
        "\n",
        "# Function to process audio and send to Deepgram for real-time transcription\n",
        "dg_client = Deepgram(DEEPGRAM_API_KEY)\n",
        "\n",
        "# Function to process audio and send to Deepgram for real-time transcription\n",
        "async def transcribe_realtime():\n",
        "    async with websockets.connect(\n",
        "        f\"{DEEPGRAM_REALTIME_ENDPOINT}?access_token={DEEPGRAM_API_KEY}&punctuate=true\"\n",
        "    ) as websocket:\n",
        "\n",
        "        # Function to handle incoming transcription messages from Deepgram\n",
        "        async def receive_transcription():\n",
        "            while True:\n",
        "                message = await websocket.recv()\n",
        "                data = json.loads(message)\n",
        "\n",
        "                # Extract transcription result\n",
        "                if \"channel\" in data:\n",
        "                    transcript = data[\"channel\"][\"alternatives\"][0][\"transcript\"]\n",
        "                    if transcript:\n",
        "                        print(\"Transcription: \", transcript)\n",
        "                        # Save transcription to text file\n",
        "                        with open(TEXT_FILE_PATH, \"a\") as f:\n",
        "                            f.write(transcript + \"\\n\")\n",
        "\n",
        "        # Start receiving transcription data asynchronously\n",
        "        receive_task = asyncio.create_task(receive_transcription())\n",
        "\n",
        "        # Function to send audio data to Deepgram\n",
        "        def callback(indata, frames, time, status):\n",
        "            if status:\n",
        "                print(status, flush=True)\n",
        "            asyncio.run_coroutine_threadsafe(websocket.send(indata), loop)\n",
        "\n",
        "        # Open a stream to record audio\n",
        "        with sd.InputStream(samplerate=SAMPLE_RATE, channels=CHANNELS, dtype='int16', callback=callback):\n",
        "            print(f\"Recording for {DURATION} seconds...\")\n",
        "            sd.sleep(int(DURATION * 1000))  # Record for the specified duration\n",
        "\n",
        "        # Stop receiving transcription data\n",
        "        await websocket.close()\n",
        "\n",
        "        # Wait until receive task completes\n",
        "        await receive_task\n",
        "\n",
        "# Main function to start recording and transcription\n",
        "def main():\n",
        "    loop = asyncio.get_event_loop()\n",
        "    loop.run_until_complete(transcribe_realtime())\n",
        "\n",
        "if __name__ == \"__main__\":\n",
        "    main()\n"
      ],
      "cell_type": "code",
      "metadata": {
        "colab": {
          "base_uri": "https://localhost:8080/",
          "height": 662
        },
        "id": "4bQZCrVJbUxU",
        "outputId": "3a50446b-8bc3-4180-fa86-72e9fe6b5ef2"
      },
      "execution_count": null,
      "outputs": [
        {
          "output_type": "error",
          "ename": "Exception",
          "evalue": "\n            FATAL ERROR:\n            You are attempting to instantiate a Deepgram object, which is no longer a class in version 3 of this SDK.\n\n            To fix this issue:\n                1. You need to revert to the previous version 2 of the SDK: pip install deepgram-sdk==2.12.0\n                2. or, update your application's code to use version 3 of this SDK. See the README for more information.\n\n            Things to consider:\n\n                - This Version 3 of the SDK requires Python 3.10 or higher.\n                  Older versions (3.9 and lower) of Python are nearing end-of-life: https://devguide.python.org/versions/\n                  Understand the risks of using a version of Python nearing EOL.\n\n                - Version 2 of the SDK will receive maintenance updates in the form of security fixes only.\n                  No new features will be added to version 2 of the SDK.\n            ",
          "traceback": [
            "\u001b[0;31m---------------------------------------------------------------------------\u001b[0m",
            "\u001b[0;31mException\u001b[0m                                 Traceback (most recent call last)",
            "\u001b[0;32m<ipython-input-16-fc3c1c7cc4e3>\u001b[0m in \u001b[0;36m<cell line: 25>\u001b[0;34m()\u001b[0m\n\u001b[1;32m     23\u001b[0m \u001b[0;34m\u001b[0m\u001b[0m\n\u001b[1;32m     24\u001b[0m \u001b[0;31m# Function to process audio and send to Deepgram for real-time transcription\u001b[0m\u001b[0;34m\u001b[0m\u001b[0;34m\u001b[0m\u001b[0m\n\u001b[0;32m---> 25\u001b[0;31m \u001b[0mdg_client\u001b[0m \u001b[0;34m=\u001b[0m \u001b[0mDeepgram\u001b[0m\u001b[0;34m(\u001b[0m\u001b[0mDEEPGRAM_API_KEY\u001b[0m\u001b[0;34m)\u001b[0m\u001b[0;34m\u001b[0m\u001b[0;34m\u001b[0m\u001b[0m\n\u001b[0m\u001b[1;32m     26\u001b[0m \u001b[0;34m\u001b[0m\u001b[0m\n\u001b[1;32m     27\u001b[0m \u001b[0;31m# Function to process audio and send to Deepgram for real-time transcription\u001b[0m\u001b[0;34m\u001b[0m\u001b[0;34m\u001b[0m\u001b[0m\n",
            "\u001b[0;32m/usr/local/lib/python3.10/dist-packages/deepgram/client.py\u001b[0m in \u001b[0;36m__init__\u001b[0;34m(self, *anything)\u001b[0m\n\u001b[1;32m    322\u001b[0m \u001b[0;34m\u001b[0m\u001b[0m\n\u001b[1;32m    323\u001b[0m     \u001b[0;32mdef\u001b[0m \u001b[0m__init__\u001b[0m\u001b[0;34m(\u001b[0m\u001b[0mself\u001b[0m\u001b[0;34m,\u001b[0m \u001b[0;34m*\u001b[0m\u001b[0manything\u001b[0m\u001b[0;34m)\u001b[0m\u001b[0;34m:\u001b[0m\u001b[0;34m\u001b[0m\u001b[0;34m\u001b[0m\u001b[0m\n\u001b[0;32m--> 324\u001b[0;31m         raise Exception(\n\u001b[0m\u001b[1;32m    325\u001b[0m             \"\"\"\n\u001b[1;32m    326\u001b[0m             \u001b[0mFATAL\u001b[0m \u001b[0mERROR\u001b[0m\u001b[0;34m:\u001b[0m\u001b[0;34m\u001b[0m\u001b[0;34m\u001b[0m\u001b[0m\n",
            "\u001b[0;31mException\u001b[0m: \n            FATAL ERROR:\n            You are attempting to instantiate a Deepgram object, which is no longer a class in version 3 of this SDK.\n\n            To fix this issue:\n                1. You need to revert to the previous version 2 of the SDK: pip install deepgram-sdk==2.12.0\n                2. or, update your application's code to use version 3 of this SDK. See the README for more information.\n\n            Things to consider:\n\n                - This Version 3 of the SDK requires Python 3.10 or higher.\n                  Older versions (3.9 and lower) of Python are nearing end-of-life: https://devguide.python.org/versions/\n                  Understand the risks of using a version of Python nearing EOL.\n\n                - Version 2 of the SDK will receive maintenance updates in the form of security fixes only.\n                  No new features will be added to version 2 of the SDK.\n            "
          ]
        }
      ]
    },
    {
      "cell_type": "code",
      "source": [],
      "metadata": {
        "colab": {
          "base_uri": "https://localhost:8080/",
          "height": 73
        },
        "id": "QaKz_Grtck7v",
        "outputId": "4de4b909-95a4-4aa9-f2cb-8cbaa0d8165a"
      },
      "execution_count": null,
      "outputs": [
        {
          "output_type": "display_data",
          "data": {
            "text/plain": [
              "<IPython.core.display.HTML object>"
            ],
            "text/html": [
              "\n",
              "     <input type=\"file\" id=\"files-907cdc4c-06f4-4e02-a604-f1c40791b1d0\" name=\"files[]\" multiple disabled\n",
              "        style=\"border:none\" />\n",
              "     <output id=\"result-907cdc4c-06f4-4e02-a604-f1c40791b1d0\">\n",
              "      Upload widget is only available when the cell has been executed in the\n",
              "      current browser session. Please rerun this cell to enable.\n",
              "      </output>\n",
              "      <script>// Copyright 2017 Google LLC\n",
              "//\n",
              "// Licensed under the Apache License, Version 2.0 (the \"License\");\n",
              "// you may not use this file except in compliance with the License.\n",
              "// You may obtain a copy of the License at\n",
              "//\n",
              "//      http://www.apache.org/licenses/LICENSE-2.0\n",
              "//\n",
              "// Unless required by applicable law or agreed to in writing, software\n",
              "// distributed under the License is distributed on an \"AS IS\" BASIS,\n",
              "// WITHOUT WARRANTIES OR CONDITIONS OF ANY KIND, either express or implied.\n",
              "// See the License for the specific language governing permissions and\n",
              "// limitations under the License.\n",
              "\n",
              "/**\n",
              " * @fileoverview Helpers for google.colab Python module.\n",
              " */\n",
              "(function(scope) {\n",
              "function span(text, styleAttributes = {}) {\n",
              "  const element = document.createElement('span');\n",
              "  element.textContent = text;\n",
              "  for (const key of Object.keys(styleAttributes)) {\n",
              "    element.style[key] = styleAttributes[key];\n",
              "  }\n",
              "  return element;\n",
              "}\n",
              "\n",
              "// Max number of bytes which will be uploaded at a time.\n",
              "const MAX_PAYLOAD_SIZE = 100 * 1024;\n",
              "\n",
              "function _uploadFiles(inputId, outputId) {\n",
              "  const steps = uploadFilesStep(inputId, outputId);\n",
              "  const outputElement = document.getElementById(outputId);\n",
              "  // Cache steps on the outputElement to make it available for the next call\n",
              "  // to uploadFilesContinue from Python.\n",
              "  outputElement.steps = steps;\n",
              "\n",
              "  return _uploadFilesContinue(outputId);\n",
              "}\n",
              "\n",
              "// This is roughly an async generator (not supported in the browser yet),\n",
              "// where there are multiple asynchronous steps and the Python side is going\n",
              "// to poll for completion of each step.\n",
              "// This uses a Promise to block the python side on completion of each step,\n",
              "// then passes the result of the previous step as the input to the next step.\n",
              "function _uploadFilesContinue(outputId) {\n",
              "  const outputElement = document.getElementById(outputId);\n",
              "  const steps = outputElement.steps;\n",
              "\n",
              "  const next = steps.next(outputElement.lastPromiseValue);\n",
              "  return Promise.resolve(next.value.promise).then((value) => {\n",
              "    // Cache the last promise value to make it available to the next\n",
              "    // step of the generator.\n",
              "    outputElement.lastPromiseValue = value;\n",
              "    return next.value.response;\n",
              "  });\n",
              "}\n",
              "\n",
              "/**\n",
              " * Generator function which is called between each async step of the upload\n",
              " * process.\n",
              " * @param {string} inputId Element ID of the input file picker element.\n",
              " * @param {string} outputId Element ID of the output display.\n",
              " * @return {!Iterable<!Object>} Iterable of next steps.\n",
              " */\n",
              "function* uploadFilesStep(inputId, outputId) {\n",
              "  const inputElement = document.getElementById(inputId);\n",
              "  inputElement.disabled = false;\n",
              "\n",
              "  const outputElement = document.getElementById(outputId);\n",
              "  outputElement.innerHTML = '';\n",
              "\n",
              "  const pickedPromise = new Promise((resolve) => {\n",
              "    inputElement.addEventListener('change', (e) => {\n",
              "      resolve(e.target.files);\n",
              "    });\n",
              "  });\n",
              "\n",
              "  const cancel = document.createElement('button');\n",
              "  inputElement.parentElement.appendChild(cancel);\n",
              "  cancel.textContent = 'Cancel upload';\n",
              "  const cancelPromise = new Promise((resolve) => {\n",
              "    cancel.onclick = () => {\n",
              "      resolve(null);\n",
              "    };\n",
              "  });\n",
              "\n",
              "  // Wait for the user to pick the files.\n",
              "  const files = yield {\n",
              "    promise: Promise.race([pickedPromise, cancelPromise]),\n",
              "    response: {\n",
              "      action: 'starting',\n",
              "    }\n",
              "  };\n",
              "\n",
              "  cancel.remove();\n",
              "\n",
              "  // Disable the input element since further picks are not allowed.\n",
              "  inputElement.disabled = true;\n",
              "\n",
              "  if (!files) {\n",
              "    return {\n",
              "      response: {\n",
              "        action: 'complete',\n",
              "      }\n",
              "    };\n",
              "  }\n",
              "\n",
              "  for (const file of files) {\n",
              "    const li = document.createElement('li');\n",
              "    li.append(span(file.name, {fontWeight: 'bold'}));\n",
              "    li.append(span(\n",
              "        `(${file.type || 'n/a'}) - ${file.size} bytes, ` +\n",
              "        `last modified: ${\n",
              "            file.lastModifiedDate ? file.lastModifiedDate.toLocaleDateString() :\n",
              "                                    'n/a'} - `));\n",
              "    const percent = span('0% done');\n",
              "    li.appendChild(percent);\n",
              "\n",
              "    outputElement.appendChild(li);\n",
              "\n",
              "    const fileDataPromise = new Promise((resolve) => {\n",
              "      const reader = new FileReader();\n",
              "      reader.onload = (e) => {\n",
              "        resolve(e.target.result);\n",
              "      };\n",
              "      reader.readAsArrayBuffer(file);\n",
              "    });\n",
              "    // Wait for the data to be ready.\n",
              "    let fileData = yield {\n",
              "      promise: fileDataPromise,\n",
              "      response: {\n",
              "        action: 'continue',\n",
              "      }\n",
              "    };\n",
              "\n",
              "    // Use a chunked sending to avoid message size limits. See b/62115660.\n",
              "    let position = 0;\n",
              "    do {\n",
              "      const length = Math.min(fileData.byteLength - position, MAX_PAYLOAD_SIZE);\n",
              "      const chunk = new Uint8Array(fileData, position, length);\n",
              "      position += length;\n",
              "\n",
              "      const base64 = btoa(String.fromCharCode.apply(null, chunk));\n",
              "      yield {\n",
              "        response: {\n",
              "          action: 'append',\n",
              "          file: file.name,\n",
              "          data: base64,\n",
              "        },\n",
              "      };\n",
              "\n",
              "      let percentDone = fileData.byteLength === 0 ?\n",
              "          100 :\n",
              "          Math.round((position / fileData.byteLength) * 100);\n",
              "      percent.textContent = `${percentDone}% done`;\n",
              "\n",
              "    } while (position < fileData.byteLength);\n",
              "  }\n",
              "\n",
              "  // All done.\n",
              "  yield {\n",
              "    response: {\n",
              "      action: 'complete',\n",
              "    }\n",
              "  };\n",
              "}\n",
              "\n",
              "scope.google = scope.google || {};\n",
              "scope.google.colab = scope.google.colab || {};\n",
              "scope.google.colab._files = {\n",
              "  _uploadFiles,\n",
              "  _uploadFilesContinue,\n",
              "};\n",
              "})(self);\n",
              "</script> "
            ]
          },
          "metadata": {}
        },
        {
          "output_type": "stream",
          "name": "stdout",
          "text": [
            "Saving download (1).wav to download (1).wav\n"
          ]
        }
      ]
    },
    {
      "cell_type": "code",
      "source": [],
      "metadata": {
        "id": "2LLc6sj16tbH"
      },
      "execution_count": null,
      "outputs": []
    },
    {
      "cell_type": "code",
      "source": [
        "import asyncio\n",
        "from deepgram import Deepgram\n",
        "\n",
        "# Your Deepgram API key\n",
        "DEEPGRAM_API_KEY = 'a983f9ca4ed091a6b86242b903a2c64de3e75bec'\n",
        "\n",
        "# Initialize Deepgram client\n",
        "dg_client = Deepgram(DEEPGRAM_API_KEY)\n",
        "\n",
        "# File to save the transcription\n",
        "TEXT_FILE_PATH = \"transcription.txt\"\n",
        "\n",
        "# Asynchronous function to transcribe the audio\n",
        "async def transcribe_audio(filename):\n",
        "    with open(filename, 'rb') as audio:\n",
        "        source = {'buffer': audio, 'mimetype': 'audio/wav'}\n",
        "\n",
        "        # Call Deepgram API for transcription\n",
        "        response = await dg_client.transcription.prerecorded(source, {'punctuate': True})\n",
        "\n",
        "        # Extract the transcription\n",
        "        transcript = response['results']['channels'][0]['alternatives'][0]['transcript']\n",
        "        print(\"Transcription: \", transcript)\n",
        "\n",
        "        # Save transcription to text file\n",
        "        with open(TEXT_FILE_PATH, 'w') as f:\n",
        "            f.write(transcript)\n",
        "        print(f\"Transcription saved to {TEXT_FILE_PATH}\")\n",
        "\n",
        "# Run the transcription function\n",
        "asyncio.run(transcribe_audio(audio_file_path))\n"
      ],
      "metadata": {
        "colab": {
          "base_uri": "https://localhost:8080/",
          "height": 662
        },
        "id": "UJUf-bKEcsxe",
        "outputId": "b9d2fff1-bf27-4265-d595-ef21eef18b00"
      },
      "execution_count": null,
      "outputs": [
        {
          "output_type": "error",
          "ename": "Exception",
          "evalue": "\n            FATAL ERROR:\n            You are attempting to instantiate a Deepgram object, which is no longer a class in version 3 of this SDK.\n\n            To fix this issue:\n                1. You need to revert to the previous version 2 of the SDK: pip install deepgram-sdk==2.12.0\n                2. or, update your application's code to use version 3 of this SDK. See the README for more information.\n\n            Things to consider:\n\n                - This Version 3 of the SDK requires Python 3.10 or higher.\n                  Older versions (3.9 and lower) of Python are nearing end-of-life: https://devguide.python.org/versions/\n                  Understand the risks of using a version of Python nearing EOL.\n\n                - Version 2 of the SDK will receive maintenance updates in the form of security fixes only.\n                  No new features will be added to version 2 of the SDK.\n            ",
          "traceback": [
            "\u001b[0;31m---------------------------------------------------------------------------\u001b[0m",
            "\u001b[0;31mException\u001b[0m                                 Traceback (most recent call last)",
            "\u001b[0;32m<ipython-input-18-73dbe70a3dc2>\u001b[0m in \u001b[0;36m<cell line: 8>\u001b[0;34m()\u001b[0m\n\u001b[1;32m      6\u001b[0m \u001b[0;34m\u001b[0m\u001b[0m\n\u001b[1;32m      7\u001b[0m \u001b[0;31m# Initialize Deepgram client\u001b[0m\u001b[0;34m\u001b[0m\u001b[0;34m\u001b[0m\u001b[0m\n\u001b[0;32m----> 8\u001b[0;31m \u001b[0mdg_client\u001b[0m \u001b[0;34m=\u001b[0m \u001b[0mDeepgram\u001b[0m\u001b[0;34m(\u001b[0m\u001b[0mDEEPGRAM_API_KEY\u001b[0m\u001b[0;34m)\u001b[0m\u001b[0;34m\u001b[0m\u001b[0;34m\u001b[0m\u001b[0m\n\u001b[0m\u001b[1;32m      9\u001b[0m \u001b[0;34m\u001b[0m\u001b[0m\n\u001b[1;32m     10\u001b[0m \u001b[0;31m# File to save the transcription\u001b[0m\u001b[0;34m\u001b[0m\u001b[0;34m\u001b[0m\u001b[0m\n",
            "\u001b[0;32m/usr/local/lib/python3.10/dist-packages/deepgram/client.py\u001b[0m in \u001b[0;36m__init__\u001b[0;34m(self, *anything)\u001b[0m\n\u001b[1;32m    322\u001b[0m \u001b[0;34m\u001b[0m\u001b[0m\n\u001b[1;32m    323\u001b[0m     \u001b[0;32mdef\u001b[0m \u001b[0m__init__\u001b[0m\u001b[0;34m(\u001b[0m\u001b[0mself\u001b[0m\u001b[0;34m,\u001b[0m \u001b[0;34m*\u001b[0m\u001b[0manything\u001b[0m\u001b[0;34m)\u001b[0m\u001b[0;34m:\u001b[0m\u001b[0;34m\u001b[0m\u001b[0;34m\u001b[0m\u001b[0m\n\u001b[0;32m--> 324\u001b[0;31m         raise Exception(\n\u001b[0m\u001b[1;32m    325\u001b[0m             \"\"\"\n\u001b[1;32m    326\u001b[0m             \u001b[0mFATAL\u001b[0m \u001b[0mERROR\u001b[0m\u001b[0;34m:\u001b[0m\u001b[0;34m\u001b[0m\u001b[0;34m\u001b[0m\u001b[0m\n",
            "\u001b[0;31mException\u001b[0m: \n            FATAL ERROR:\n            You are attempting to instantiate a Deepgram object, which is no longer a class in version 3 of this SDK.\n\n            To fix this issue:\n                1. You need to revert to the previous version 2 of the SDK: pip install deepgram-sdk==2.12.0\n                2. or, update your application's code to use version 3 of this SDK. See the README for more information.\n\n            Things to consider:\n\n                - This Version 3 of the SDK requires Python 3.10 or higher.\n                  Older versions (3.9 and lower) of Python are nearing end-of-life: https://devguide.python.org/versions/\n                  Understand the risks of using a version of Python nearing EOL.\n\n                - Version 2 of the SDK will receive maintenance updates in the form of security fixes only.\n                  No new features will be added to version 2 of the SDK.\n            "
          ]
        }
      ]
    },
    {
      "source": [
        "import asyncio\n",
        "from deepgram import DeepgramClient # Use DeepgramClient\n",
        "\n",
        "# Your Deepgram API key\n",
        "DEEPGRAM_API_KEY = 'a983f9ca4ed091a6b86242b903a2c64de3e75bec'\n",
        "\n",
        "# Initialize Deepgram client using DeepgramClient\n",
        "dg_client = DeepgramClient(api_key=DEEPGRAM_API_KEY)  # Correct initialization\n",
        "\n",
        "# File to save the transcription\n",
        "TEXT_FILE_PATH = \"transcription.txt\"\n",
        "\n",
        "# Asynchronous function to transcribe the audio\n",
        "async def transcribe_audio(filename):\n",
        "    with open(filename, 'rb') as audio:\n",
        "        source = {'buffer': audio, 'mimetype': 'audio/wav'}\n",
        "\n",
        "        # Call Deepgram API for transcription\n",
        "        response = await dg_client.transcription.prerecorded(source, {'punctuate': True})\n",
        "\n",
        "        # Extract the transcription\n",
        "        transcript = response['results']['channels'][0]['alternatives'][0]['transcript']\n",
        "        print(\"Transcription: \", transcript)\n",
        "\n",
        "        # Save transcription to text file\n",
        "        with open(TEXT_FILE_PATH, 'w') as f:\n",
        "            f.write(transcript)\n",
        "        print(f\"Transcription saved to {TEXT_FILE_PATH}\")\n",
        "\n",
        "# Run the transcription function\n",
        "asyncio.run(transcribe_audio(audio_file_path))"
      ],
      "cell_type": "code",
      "metadata": {
        "colab": {
          "base_uri": "https://localhost:8080/",
          "height": 297
        },
        "id": "Ia65IRLnc3oB",
        "outputId": "0d3d384b-9cb8-4b97-a117-0fabddb2f858"
      },
      "execution_count": null,
      "outputs": [
        {
          "output_type": "error",
          "ename": "RuntimeError",
          "evalue": "asyncio.run() cannot be called from a running event loop",
          "traceback": [
            "\u001b[0;31m---------------------------------------------------------------------------\u001b[0m",
            "\u001b[0;31mRuntimeError\u001b[0m                              Traceback (most recent call last)",
            "\u001b[0;32m<ipython-input-19-2dc45f33e443>\u001b[0m in \u001b[0;36m<cell line: 31>\u001b[0;34m()\u001b[0m\n\u001b[1;32m     29\u001b[0m \u001b[0;34m\u001b[0m\u001b[0m\n\u001b[1;32m     30\u001b[0m \u001b[0;31m# Run the transcription function\u001b[0m\u001b[0;34m\u001b[0m\u001b[0;34m\u001b[0m\u001b[0m\n\u001b[0;32m---> 31\u001b[0;31m \u001b[0masyncio\u001b[0m\u001b[0;34m.\u001b[0m\u001b[0mrun\u001b[0m\u001b[0;34m(\u001b[0m\u001b[0mtranscribe_audio\u001b[0m\u001b[0;34m(\u001b[0m\u001b[0maudio_file_path\u001b[0m\u001b[0;34m)\u001b[0m\u001b[0;34m)\u001b[0m\u001b[0;34m\u001b[0m\u001b[0;34m\u001b[0m\u001b[0m\n\u001b[0m",
            "\u001b[0;32m/usr/lib/python3.10/asyncio/runners.py\u001b[0m in \u001b[0;36mrun\u001b[0;34m(main, debug)\u001b[0m\n\u001b[1;32m     31\u001b[0m     \"\"\"\n\u001b[1;32m     32\u001b[0m     \u001b[0;32mif\u001b[0m \u001b[0mevents\u001b[0m\u001b[0;34m.\u001b[0m\u001b[0m_get_running_loop\u001b[0m\u001b[0;34m(\u001b[0m\u001b[0;34m)\u001b[0m \u001b[0;32mis\u001b[0m \u001b[0;32mnot\u001b[0m \u001b[0;32mNone\u001b[0m\u001b[0;34m:\u001b[0m\u001b[0;34m\u001b[0m\u001b[0;34m\u001b[0m\u001b[0m\n\u001b[0;32m---> 33\u001b[0;31m         raise RuntimeError(\n\u001b[0m\u001b[1;32m     34\u001b[0m             \"asyncio.run() cannot be called from a running event loop\")\n\u001b[1;32m     35\u001b[0m \u001b[0;34m\u001b[0m\u001b[0m\n",
            "\u001b[0;31mRuntimeError\u001b[0m: asyncio.run() cannot be called from a running event loop"
          ]
        }
      ]
    },
    {
      "source": [
        "import asyncio\n",
        "from deepgram import DeepgramClient\n",
        "\n",
        "# Your Deepgram API key\n",
        "DEEPGRAM_API_KEY = 'a983f9ca4ed091a6b86242b903a2c64de3e75bec'\n",
        "\n",
        "# Initialize Deepgram client using DeepgramClient\n",
        "dg_client = DeepgramClient(api_key=DEEPGRAM_API_KEY)  # Correct initialization\n",
        "\n",
        "# File to save the transcription\n",
        "TEXT_FILE_PATH = \"transcription.txt\"\n",
        "\n",
        "# Asynchronous function to transcribe the audio\n",
        "async def transcribe_audio(filename):\n",
        "    with open(filename, 'rb') as audio:\n",
        "        source = {'buffer': audio, 'mimetype': 'audio/wav'}\n",
        "\n",
        "        # Call Deepgram API for transcription\n",
        "        response = await dg_client.transcription.prerecorded(source, {'punctuate': True})\n",
        "\n",
        "        # Extract the transcription\n",
        "        transcript = response['results']['channels'][0]['alternatives'][0]['transcript']\n",
        "        print(\"Transcription: \", transcript)\n",
        "\n",
        "        # Save transcription to text file\n",
        "        with open(TEXT_FILE_PATH, 'w') as f:\n",
        "            f.write(transcript)\n",
        "        print(f\"Transcription saved to {TEXT_FILE_PATH}\")\n",
        "\n",
        "# Run the transcription function using the existing event loop\n",
        "# Instead of asyncio.run, use the following:\n",
        "await transcribe_audio(audio_file_path) # Call the function with await"
      ],
      "cell_type": "code",
      "metadata": {
        "colab": {
          "base_uri": "https://localhost:8080/",
          "height": 297
        },
        "id": "oGcj-85dc_GI",
        "outputId": "3da7bcfb-dfc3-4f46-e680-e03ef7d8b62c"
      },
      "execution_count": null,
      "outputs": [
        {
          "output_type": "error",
          "ename": "AttributeError",
          "evalue": "'DeepgramClient' object has no attribute 'transcription'",
          "traceback": [
            "\u001b[0;31m---------------------------------------------------------------------------\u001b[0m",
            "\u001b[0;31mAttributeError\u001b[0m                            Traceback (most recent call last)",
            "\u001b[0;32m<ipython-input-20-3c193a121ea7>\u001b[0m in \u001b[0;36m<cell line: 32>\u001b[0;34m()\u001b[0m\n\u001b[1;32m     30\u001b[0m \u001b[0;31m# Run the transcription function using the existing event loop\u001b[0m\u001b[0;34m\u001b[0m\u001b[0;34m\u001b[0m\u001b[0m\n\u001b[1;32m     31\u001b[0m \u001b[0;31m# Instead of asyncio.run, use the following:\u001b[0m\u001b[0;34m\u001b[0m\u001b[0;34m\u001b[0m\u001b[0m\n\u001b[0;32m---> 32\u001b[0;31m \u001b[0;32mawait\u001b[0m \u001b[0mtranscribe_audio\u001b[0m\u001b[0;34m(\u001b[0m\u001b[0maudio_file_path\u001b[0m\u001b[0;34m)\u001b[0m \u001b[0;31m# Call the function with await\u001b[0m\u001b[0;34m\u001b[0m\u001b[0;34m\u001b[0m\u001b[0m\n\u001b[0m",
            "\u001b[0;32m<ipython-input-20-3c193a121ea7>\u001b[0m in \u001b[0;36mtranscribe_audio\u001b[0;34m(filename)\u001b[0m\n\u001b[1;32m     17\u001b[0m \u001b[0;34m\u001b[0m\u001b[0m\n\u001b[1;32m     18\u001b[0m         \u001b[0;31m# Call Deepgram API for transcription\u001b[0m\u001b[0;34m\u001b[0m\u001b[0;34m\u001b[0m\u001b[0m\n\u001b[0;32m---> 19\u001b[0;31m         \u001b[0mresponse\u001b[0m \u001b[0;34m=\u001b[0m \u001b[0;32mawait\u001b[0m \u001b[0mdg_client\u001b[0m\u001b[0;34m.\u001b[0m\u001b[0mtranscription\u001b[0m\u001b[0;34m.\u001b[0m\u001b[0mprerecorded\u001b[0m\u001b[0;34m(\u001b[0m\u001b[0msource\u001b[0m\u001b[0;34m,\u001b[0m \u001b[0;34m{\u001b[0m\u001b[0;34m'punctuate'\u001b[0m\u001b[0;34m:\u001b[0m \u001b[0;32mTrue\u001b[0m\u001b[0;34m}\u001b[0m\u001b[0;34m)\u001b[0m\u001b[0;34m\u001b[0m\u001b[0;34m\u001b[0m\u001b[0m\n\u001b[0m\u001b[1;32m     20\u001b[0m \u001b[0;34m\u001b[0m\u001b[0m\n\u001b[1;32m     21\u001b[0m         \u001b[0;31m# Extract the transcription\u001b[0m\u001b[0;34m\u001b[0m\u001b[0;34m\u001b[0m\u001b[0m\n",
            "\u001b[0;31mAttributeError\u001b[0m: 'DeepgramClient' object has no attribute 'transcription'"
          ]
        }
      ]
    },
    {
      "source": [
        "import asyncio\n",
        "from deepgram import DeepgramClient\n",
        "\n",
        "# Your Deepgram API key\n",
        "DEEPGRAM_API_KEY = 'a983f9ca4ed091a6b86242b903a2c64de3e75bec'\n",
        "\n",
        "# Initialize Deepgram client using DeepgramClient\n",
        "dg_client = DeepgramClient(api_key=DEEPGRAM_API_KEY)  # Correct initialization\n",
        "\n",
        "# File to save the transcription\n",
        "TEXT_FILE_PATH = \"transcription.txt\"\n",
        "\n",
        "# Asynchronous function to transcribe the audio\n",
        "async def transcribe_audio(filename):\n",
        "    with open(filename, 'rb') as audio:\n",
        "        source = {'buffer': audio, 'mimetype': 'audio/wav'}\n",
        "\n",
        "        # Call Deepgram API for transcription directly using dg_client\n",
        "        response = await dg_client.prerecorded(source, {'punctuate': True}) # Changed this line\n",
        "\n",
        "        # Extract the transcription\n",
        "        transcript = response['results']['channels'][0]['alternatives'][0]['transcript']\n",
        "        print(\"Transcription: \", transcript)\n",
        "\n",
        "        # Save transcription to text file\n",
        "        with open(TEXT_FILE_PATH, 'w') as f:\n",
        "            f.write(transcript)\n",
        "        print(f\"Transcription saved to {TEXT_FILE_PATH}\")\n",
        "\n",
        "# Run the transcription function using the existing event loop\n",
        "# Instead of asyncio.run, use the following:\n",
        "await transcribe_audio(audio_file_path) # Call the function with await"
      ],
      "cell_type": "code",
      "metadata": {
        "colab": {
          "base_uri": "https://localhost:8080/",
          "height": 297
        },
        "id": "EKA2TNnGdEQm",
        "outputId": "c218c808-8761-4d42-f4e7-0930cf63d51f"
      },
      "execution_count": null,
      "outputs": [
        {
          "output_type": "error",
          "ename": "AttributeError",
          "evalue": "'DeepgramClient' object has no attribute 'prerecorded'",
          "traceback": [
            "\u001b[0;31m---------------------------------------------------------------------------\u001b[0m",
            "\u001b[0;31mAttributeError\u001b[0m                            Traceback (most recent call last)",
            "\u001b[0;32m<ipython-input-21-f91cd6b1863d>\u001b[0m in \u001b[0;36m<cell line: 32>\u001b[0;34m()\u001b[0m\n\u001b[1;32m     30\u001b[0m \u001b[0;31m# Run the transcription function using the existing event loop\u001b[0m\u001b[0;34m\u001b[0m\u001b[0;34m\u001b[0m\u001b[0m\n\u001b[1;32m     31\u001b[0m \u001b[0;31m# Instead of asyncio.run, use the following:\u001b[0m\u001b[0;34m\u001b[0m\u001b[0;34m\u001b[0m\u001b[0m\n\u001b[0;32m---> 32\u001b[0;31m \u001b[0;32mawait\u001b[0m \u001b[0mtranscribe_audio\u001b[0m\u001b[0;34m(\u001b[0m\u001b[0maudio_file_path\u001b[0m\u001b[0;34m)\u001b[0m \u001b[0;31m# Call the function with await\u001b[0m\u001b[0;34m\u001b[0m\u001b[0;34m\u001b[0m\u001b[0m\n\u001b[0m",
            "\u001b[0;32m<ipython-input-21-f91cd6b1863d>\u001b[0m in \u001b[0;36mtranscribe_audio\u001b[0;34m(filename)\u001b[0m\n\u001b[1;32m     17\u001b[0m \u001b[0;34m\u001b[0m\u001b[0m\n\u001b[1;32m     18\u001b[0m         \u001b[0;31m# Call Deepgram API for transcription directly using dg_client\u001b[0m\u001b[0;34m\u001b[0m\u001b[0;34m\u001b[0m\u001b[0m\n\u001b[0;32m---> 19\u001b[0;31m         \u001b[0mresponse\u001b[0m \u001b[0;34m=\u001b[0m \u001b[0;32mawait\u001b[0m \u001b[0mdg_client\u001b[0m\u001b[0;34m.\u001b[0m\u001b[0mprerecorded\u001b[0m\u001b[0;34m(\u001b[0m\u001b[0msource\u001b[0m\u001b[0;34m,\u001b[0m \u001b[0;34m{\u001b[0m\u001b[0;34m'punctuate'\u001b[0m\u001b[0;34m:\u001b[0m \u001b[0;32mTrue\u001b[0m\u001b[0;34m}\u001b[0m\u001b[0;34m)\u001b[0m \u001b[0;31m# Changed this line\u001b[0m\u001b[0;34m\u001b[0m\u001b[0;34m\u001b[0m\u001b[0m\n\u001b[0m\u001b[1;32m     20\u001b[0m \u001b[0;34m\u001b[0m\u001b[0m\n\u001b[1;32m     21\u001b[0m         \u001b[0;31m# Extract the transcription\u001b[0m\u001b[0;34m\u001b[0m\u001b[0;34m\u001b[0m\u001b[0m\n",
            "\u001b[0;31mAttributeError\u001b[0m: 'DeepgramClient' object has no attribute 'prerecorded'"
          ]
        }
      ]
    },
    {
      "source": [
        "import asyncio\n",
        "from deepgram import DeepgramClient\n",
        "\n",
        "# Your Deepgram API key\n",
        "DEEPGRAM_API_KEY = 'a983f9ca4ed091a6b86242b903a2c64de3e75bec'\n",
        "\n",
        "# Initialize Deepgram client using DeepgramClient\n",
        "dg_client = DeepgramClient(api_key=DEEPGRAM_API_KEY)  # Correct initialization\n",
        "\n",
        "# File to save the transcription\n",
        "TEXT_FILE_PATH = \"transcription.txt\"\n",
        "\n",
        "# Asynchronous function to transcribe the audio\n",
        "async def transcribe_audio(filename):\n",
        "    with open(filename, 'rb') as audio:\n",
        "        source = {'buffer': audio, 'mimetype': 'audio/wav'}\n",
        "\n",
        "        # Call Deepgram API for transcription using dg_client.transcription.prerecorded\n",
        "        response = await dg_client.transcription.prerecorded(source, {'punctuate': True})  # Corrected this line\n",
        "\n",
        "        # Extract the transcription\n",
        "        transcript = response['results']['channels'][0]['alternatives'][0]['transcript']\n",
        "        print(\"Transcription: \", transcript)\n",
        "\n",
        "        # Save transcription to text file\n",
        "        with open(TEXT_FILE_PATH, 'w') as f:\n",
        "            f.write(transcript)\n",
        "        print(f\"Transcription saved to {TEXT_FILE_PATH}\")\n",
        "\n",
        "# Run the transcription function using the existing event loop\n",
        "# Instead of asyncio.run, use the following:\n",
        "await transcribe_audio(audio_file_path) # Call the function with await"
      ],
      "cell_type": "code",
      "metadata": {
        "colab": {
          "base_uri": "https://localhost:8080/",
          "height": 315
        },
        "id": "Hb-qzXTPdK7c",
        "outputId": "f5346922-938f-4e1e-9969-0f27b90eeca8"
      },
      "execution_count": null,
      "outputs": [
        {
          "output_type": "error",
          "ename": "AttributeError",
          "evalue": "'DeepgramClient' object has no attribute 'transcription'",
          "traceback": [
            "\u001b[0;31m---------------------------------------------------------------------------\u001b[0m",
            "\u001b[0;31mAttributeError\u001b[0m                            Traceback (most recent call last)",
            "\u001b[0;32m<ipython-input-22-ab9a25633fcb>\u001b[0m in \u001b[0;36m<cell line: 32>\u001b[0;34m()\u001b[0m\n\u001b[1;32m     30\u001b[0m \u001b[0;31m# Run the transcription function using the existing event loop\u001b[0m\u001b[0;34m\u001b[0m\u001b[0;34m\u001b[0m\u001b[0m\n\u001b[1;32m     31\u001b[0m \u001b[0;31m# Instead of asyncio.run, use the following:\u001b[0m\u001b[0;34m\u001b[0m\u001b[0;34m\u001b[0m\u001b[0m\n\u001b[0;32m---> 32\u001b[0;31m \u001b[0;32mawait\u001b[0m \u001b[0mtranscribe_audio\u001b[0m\u001b[0;34m(\u001b[0m\u001b[0maudio_file_path\u001b[0m\u001b[0;34m)\u001b[0m \u001b[0;31m# Call the function with await\u001b[0m\u001b[0;34m\u001b[0m\u001b[0;34m\u001b[0m\u001b[0m\n\u001b[0m",
            "\u001b[0;32m<ipython-input-22-ab9a25633fcb>\u001b[0m in \u001b[0;36mtranscribe_audio\u001b[0;34m(filename)\u001b[0m\n\u001b[1;32m     17\u001b[0m \u001b[0;34m\u001b[0m\u001b[0m\n\u001b[1;32m     18\u001b[0m         \u001b[0;31m# Call Deepgram API for transcription using dg_client.transcription.prerecorded\u001b[0m\u001b[0;34m\u001b[0m\u001b[0;34m\u001b[0m\u001b[0m\n\u001b[0;32m---> 19\u001b[0;31m         \u001b[0mresponse\u001b[0m \u001b[0;34m=\u001b[0m \u001b[0;32mawait\u001b[0m \u001b[0mdg_client\u001b[0m\u001b[0;34m.\u001b[0m\u001b[0mtranscription\u001b[0m\u001b[0;34m.\u001b[0m\u001b[0mprerecorded\u001b[0m\u001b[0;34m(\u001b[0m\u001b[0msource\u001b[0m\u001b[0;34m,\u001b[0m \u001b[0;34m{\u001b[0m\u001b[0;34m'punctuate'\u001b[0m\u001b[0;34m:\u001b[0m \u001b[0;32mTrue\u001b[0m\u001b[0;34m}\u001b[0m\u001b[0;34m)\u001b[0m  \u001b[0;31m# Corrected this line\u001b[0m\u001b[0;34m\u001b[0m\u001b[0;34m\u001b[0m\u001b[0m\n\u001b[0m\u001b[1;32m     20\u001b[0m \u001b[0;34m\u001b[0m\u001b[0m\n\u001b[1;32m     21\u001b[0m         \u001b[0;31m# Extract the transcription\u001b[0m\u001b[0;34m\u001b[0m\u001b[0;34m\u001b[0m\u001b[0m\n",
            "\u001b[0;31mAttributeError\u001b[0m: 'DeepgramClient' object has no attribute 'transcription'"
          ]
        }
      ]
    },
    {
      "source": [
        "import asyncio\n",
        "from deepgram import DeepgramClient\n",
        "\n",
        "# Your Deepgram API key\n",
        "DEEPGRAM_API_KEY = 'a983f9ca4ed091a6b86242b903a2c64de3e75bec'\n",
        "\n",
        "# Initialize Deepgram client using DeepgramClient\n",
        "dg_client = DeepgramClient(api_key=DEEPGRAM_API_KEY)  # Correct initialization\n",
        "\n",
        "# File to save the transcription\n",
        "TEXT_FILE_PATH = \"transcription.txt\"\n",
        "\n",
        "# Asynchronous function to transcribe the audio\n",
        "async def transcribe_audio(filename):\n",
        "    with open(filename, 'rb') as audio:\n",
        "        source = {'buffer': audio, 'mimetype': 'audio/wav'}\n",
        "\n",
        "        # Call Deepgram API for transcription directly using dg_client.prerecorded\n",
        "        # The 'transcription' attribute is no longer needed in the newer SDK version.\n",
        "        response = await dg_client.prerecorded(source, {'punctuate': True})\n",
        "\n",
        "        # Extract the transcription\n",
        "        transcript = response['results']['channels'][0]['alternatives'][0]['transcript']\n",
        "        print(\"Transcription: \", transcript)\n",
        "\n",
        "        # Save transcription to text file\n",
        "        with open(TEXT_FILE_PATH, 'w') as f:\n",
        "            f.write(transcript)\n",
        "        print(f\"Transcription saved to {TEXT_FILE_PATH}\")\n",
        "\n",
        "# Run the transcription function using the existing event loop\n",
        "# Instead of asyncio.run, use the following:\n",
        "await transcribe_audio(audio_file_path) # Call the function with await"
      ],
      "cell_type": "code",
      "metadata": {
        "colab": {
          "base_uri": "https://localhost:8080/",
          "height": 297
        },
        "id": "NZIFpQTAdR2B",
        "outputId": "ddf33208-a118-4549-fd5d-bd18aea58f68"
      },
      "execution_count": null,
      "outputs": [
        {
          "output_type": "error",
          "ename": "AttributeError",
          "evalue": "'DeepgramClient' object has no attribute 'prerecorded'",
          "traceback": [
            "\u001b[0;31m---------------------------------------------------------------------------\u001b[0m",
            "\u001b[0;31mAttributeError\u001b[0m                            Traceback (most recent call last)",
            "\u001b[0;32m<ipython-input-23-8d1c6dadea92>\u001b[0m in \u001b[0;36m<cell line: 33>\u001b[0;34m()\u001b[0m\n\u001b[1;32m     31\u001b[0m \u001b[0;31m# Run the transcription function using the existing event loop\u001b[0m\u001b[0;34m\u001b[0m\u001b[0;34m\u001b[0m\u001b[0m\n\u001b[1;32m     32\u001b[0m \u001b[0;31m# Instead of asyncio.run, use the following:\u001b[0m\u001b[0;34m\u001b[0m\u001b[0;34m\u001b[0m\u001b[0m\n\u001b[0;32m---> 33\u001b[0;31m \u001b[0;32mawait\u001b[0m \u001b[0mtranscribe_audio\u001b[0m\u001b[0;34m(\u001b[0m\u001b[0maudio_file_path\u001b[0m\u001b[0;34m)\u001b[0m \u001b[0;31m# Call the function with await\u001b[0m\u001b[0;34m\u001b[0m\u001b[0;34m\u001b[0m\u001b[0m\n\u001b[0m",
            "\u001b[0;32m<ipython-input-23-8d1c6dadea92>\u001b[0m in \u001b[0;36mtranscribe_audio\u001b[0;34m(filename)\u001b[0m\n\u001b[1;32m     18\u001b[0m         \u001b[0;31m# Call Deepgram API for transcription directly using dg_client.prerecorded\u001b[0m\u001b[0;34m\u001b[0m\u001b[0;34m\u001b[0m\u001b[0m\n\u001b[1;32m     19\u001b[0m         \u001b[0;31m# The 'transcription' attribute is no longer needed in the newer SDK version.\u001b[0m\u001b[0;34m\u001b[0m\u001b[0;34m\u001b[0m\u001b[0m\n\u001b[0;32m---> 20\u001b[0;31m         \u001b[0mresponse\u001b[0m \u001b[0;34m=\u001b[0m \u001b[0;32mawait\u001b[0m \u001b[0mdg_client\u001b[0m\u001b[0;34m.\u001b[0m\u001b[0mprerecorded\u001b[0m\u001b[0;34m(\u001b[0m\u001b[0msource\u001b[0m\u001b[0;34m,\u001b[0m \u001b[0;34m{\u001b[0m\u001b[0;34m'punctuate'\u001b[0m\u001b[0;34m:\u001b[0m \u001b[0;32mTrue\u001b[0m\u001b[0;34m}\u001b[0m\u001b[0;34m)\u001b[0m\u001b[0;34m\u001b[0m\u001b[0;34m\u001b[0m\u001b[0m\n\u001b[0m\u001b[1;32m     21\u001b[0m \u001b[0;34m\u001b[0m\u001b[0m\n\u001b[1;32m     22\u001b[0m         \u001b[0;31m# Extract the transcription\u001b[0m\u001b[0;34m\u001b[0m\u001b[0;34m\u001b[0m\u001b[0m\n",
            "\u001b[0;31mAttributeError\u001b[0m: 'DeepgramClient' object has no attribute 'prerecorded'"
          ]
        }
      ]
    },
    {
      "cell_type": "code",
      "source": [
        "from deepgram import Deepgram\n",
        "import json\n",
        "\n",
        "# Your Deepgram API key\n",
        "DEEPGRAM_API_KEY = 'your_api_key'\n",
        "\n",
        "# Initialize the Deepgram client\n",
        "dg_client = Deepgram(DEEPGRAM_API_KEY)\n",
        "\n",
        "# Function to transcribe the uploaded audio file\n",
        "def transcribe_audio(file_path):\n",
        "    with open(file_path, 'rb') as audio:\n",
        "        source = {'buffer': audio, 'mimetype': 'audio/wav'}  # Adjust the mimetype if necessary\n",
        "\n",
        "        # Send the audio to Deepgram for transcription\n",
        "        response = dg_client.transcription.prerecorded(source, {'punctuate': True})\n",
        "\n",
        "        # Extract the transcription text\n",
        "        transcript = response['results']['channels'][0]['alternatives'][0]['transcript']\n",
        "        print(\"Transcription: \", transcript)\n",
        "\n",
        "        # Save transcription to a .txt file\n",
        "        with open(\"transcription.txt\", \"w\") as f:\n",
        "            f.write(transcript)\n",
        "        print(\"Transcription saved to transcription.txt\")\n",
        "\n",
        "# Transcribe the uploaded audio file\n",
        "transcribe_audio(audio_file_path)\n"
      ],
      "metadata": {
        "colab": {
          "base_uri": "https://localhost:8080/",
          "height": 662
        },
        "id": "axWTbjTkdijE",
        "outputId": "e87fd72a-cec4-4ec0-b214-d3996ba7fc5a"
      },
      "execution_count": null,
      "outputs": [
        {
          "output_type": "error",
          "ename": "Exception",
          "evalue": "\n            FATAL ERROR:\n            You are attempting to instantiate a Deepgram object, which is no longer a class in version 3 of this SDK.\n\n            To fix this issue:\n                1. You need to revert to the previous version 2 of the SDK: pip install deepgram-sdk==2.12.0\n                2. or, update your application's code to use version 3 of this SDK. See the README for more information.\n\n            Things to consider:\n\n                - This Version 3 of the SDK requires Python 3.10 or higher.\n                  Older versions (3.9 and lower) of Python are nearing end-of-life: https://devguide.python.org/versions/\n                  Understand the risks of using a version of Python nearing EOL.\n\n                - Version 2 of the SDK will receive maintenance updates in the form of security fixes only.\n                  No new features will be added to version 2 of the SDK.\n            ",
          "traceback": [
            "\u001b[0;31m---------------------------------------------------------------------------\u001b[0m",
            "\u001b[0;31mException\u001b[0m                                 Traceback (most recent call last)",
            "\u001b[0;32m<ipython-input-24-2e9d20980854>\u001b[0m in \u001b[0;36m<cell line: 8>\u001b[0;34m()\u001b[0m\n\u001b[1;32m      6\u001b[0m \u001b[0;34m\u001b[0m\u001b[0m\n\u001b[1;32m      7\u001b[0m \u001b[0;31m# Initialize the Deepgram client\u001b[0m\u001b[0;34m\u001b[0m\u001b[0;34m\u001b[0m\u001b[0m\n\u001b[0;32m----> 8\u001b[0;31m \u001b[0mdg_client\u001b[0m \u001b[0;34m=\u001b[0m \u001b[0mDeepgram\u001b[0m\u001b[0;34m(\u001b[0m\u001b[0mDEEPGRAM_API_KEY\u001b[0m\u001b[0;34m)\u001b[0m\u001b[0;34m\u001b[0m\u001b[0;34m\u001b[0m\u001b[0m\n\u001b[0m\u001b[1;32m      9\u001b[0m \u001b[0;34m\u001b[0m\u001b[0m\n\u001b[1;32m     10\u001b[0m \u001b[0;31m# Function to transcribe the uploaded audio file\u001b[0m\u001b[0;34m\u001b[0m\u001b[0;34m\u001b[0m\u001b[0m\n",
            "\u001b[0;32m/usr/local/lib/python3.10/dist-packages/deepgram/client.py\u001b[0m in \u001b[0;36m__init__\u001b[0;34m(self, *anything)\u001b[0m\n\u001b[1;32m    322\u001b[0m \u001b[0;34m\u001b[0m\u001b[0m\n\u001b[1;32m    323\u001b[0m     \u001b[0;32mdef\u001b[0m \u001b[0m__init__\u001b[0m\u001b[0;34m(\u001b[0m\u001b[0mself\u001b[0m\u001b[0;34m,\u001b[0m \u001b[0;34m*\u001b[0m\u001b[0manything\u001b[0m\u001b[0;34m)\u001b[0m\u001b[0;34m:\u001b[0m\u001b[0;34m\u001b[0m\u001b[0;34m\u001b[0m\u001b[0m\n\u001b[0;32m--> 324\u001b[0;31m         raise Exception(\n\u001b[0m\u001b[1;32m    325\u001b[0m             \"\"\"\n\u001b[1;32m    326\u001b[0m             \u001b[0mFATAL\u001b[0m \u001b[0mERROR\u001b[0m\u001b[0;34m:\u001b[0m\u001b[0;34m\u001b[0m\u001b[0;34m\u001b[0m\u001b[0m\n",
            "\u001b[0;31mException\u001b[0m: \n            FATAL ERROR:\n            You are attempting to instantiate a Deepgram object, which is no longer a class in version 3 of this SDK.\n\n            To fix this issue:\n                1. You need to revert to the previous version 2 of the SDK: pip install deepgram-sdk==2.12.0\n                2. or, update your application's code to use version 3 of this SDK. See the README for more information.\n\n            Things to consider:\n\n                - This Version 3 of the SDK requires Python 3.10 or higher.\n                  Older versions (3.9 and lower) of Python are nearing end-of-life: https://devguide.python.org/versions/\n                  Understand the risks of using a version of Python nearing EOL.\n\n                - Version 2 of the SDK will receive maintenance updates in the form of security fixes only.\n                  No new features will be added to version 2 of the SDK.\n            "
          ]
        }
      ]
    },
    {
      "cell_type": "code",
      "source": [
        "import requests\n",
        "\n",
        "# Your Deepgram API key\n",
        "DEEPGRAM_API_KEY = 'a983f9ca4ed091a6b86242b903a2c64de3e75bec'\n",
        "\n",
        "# API Endpoint for transcription\n",
        "DEEPGRAM_API_URL = \"https://api.deepgram.com/v1/listen\"\n",
        "\n",
        "# Transcribe audio function using Deepgram API (HTTP request for version 3)\n",
        "def transcribe_audio(file_path):\n",
        "    with open(file_path, 'rb') as audio:\n",
        "        # HTTP headers\n",
        "        headers = {\n",
        "            'Authorization': f'Token {DEEPGRAM_API_KEY}',\n",
        "            'Content-Type': 'audio/wav',  # Adjust this if your file is not .wav\n",
        "        }\n",
        "\n",
        "        # Send the audio to Deepgram's API\n",
        "        response = requests.post(DEEPGRAM_API_URL, headers=headers, data=audio)\n",
        "\n",
        "        if response.status_code == 200:\n",
        "            # Extract the transcription from the response\n",
        "            transcript = response.json()['results']['channels'][0]['alternatives'][0]['transcript']\n",
        "            print(\"Transcription: \", transcript)\n",
        "\n",
        "            # Save transcription to a .txt file\n",
        "            with open(\"transcription.txt\", \"w\") as f:\n",
        "                f.write(transcript)\n",
        "            print(\"Transcription saved to transcription.txt\")\n",
        "        else:\n",
        "            print(f\"Error: {response.status_code}, {response.text}\")\n",
        "\n",
        "# Transcribe the uploaded audio file\n",
        "transcribe_audio(audio_file_path)\n"
      ],
      "metadata": {
        "colab": {
          "base_uri": "https://localhost:8080/"
        },
        "id": "l9XdDGikdzGS",
        "outputId": "361b0a02-7561-47e8-f55e-c703b2e711ba"
      },
      "execution_count": null,
      "outputs": [
        {
          "output_type": "stream",
          "name": "stdout",
          "text": [
            "Transcription:  mister quilt is the apostle of the middle classes and we're are glad to welcome his gospel\n",
            "Transcription saved to transcription.txt\n"
          ]
        }
      ]
    },
    {
      "cell_type": "code",
      "source": [
        "from google.colab import files\n",
        "\n",
        "# Download the transcription.txt file\n",
        "files.download('transcription.txt')\n"
      ],
      "metadata": {
        "id": "OdAinrCreAqH",
        "outputId": "56e02606-79e0-4a98-9bba-bfc46fa4a2b6",
        "colab": {
          "base_uri": "https://localhost:8080/",
          "height": 17
        }
      },
      "execution_count": null,
      "outputs": [
        {
          "output_type": "display_data",
          "data": {
            "text/plain": [
              "<IPython.core.display.Javascript object>"
            ],
            "application/javascript": [
              "\n",
              "    async function download(id, filename, size) {\n",
              "      if (!google.colab.kernel.accessAllowed) {\n",
              "        return;\n",
              "      }\n",
              "      const div = document.createElement('div');\n",
              "      const label = document.createElement('label');\n",
              "      label.textContent = `Downloading \"${filename}\": `;\n",
              "      div.appendChild(label);\n",
              "      const progress = document.createElement('progress');\n",
              "      progress.max = size;\n",
              "      div.appendChild(progress);\n",
              "      document.body.appendChild(div);\n",
              "\n",
              "      const buffers = [];\n",
              "      let downloaded = 0;\n",
              "\n",
              "      const channel = await google.colab.kernel.comms.open(id);\n",
              "      // Send a message to notify the kernel that we're ready.\n",
              "      channel.send({})\n",
              "\n",
              "      for await (const message of channel.messages) {\n",
              "        // Send a message to notify the kernel that we're ready.\n",
              "        channel.send({})\n",
              "        if (message.buffers) {\n",
              "          for (const buffer of message.buffers) {\n",
              "            buffers.push(buffer);\n",
              "            downloaded += buffer.byteLength;\n",
              "            progress.value = downloaded;\n",
              "          }\n",
              "        }\n",
              "      }\n",
              "      const blob = new Blob(buffers, {type: 'application/binary'});\n",
              "      const a = document.createElement('a');\n",
              "      a.href = window.URL.createObjectURL(blob);\n",
              "      a.download = filename;\n",
              "      div.appendChild(a);\n",
              "      a.click();\n",
              "      div.remove();\n",
              "    }\n",
              "  "
            ]
          },
          "metadata": {}
        },
        {
          "output_type": "display_data",
          "data": {
            "text/plain": [
              "<IPython.core.display.Javascript object>"
            ],
            "application/javascript": [
              "download(\"download_7f1faa30-4875-46a7-9210-c73b18526030\", \"transcription.txt\", 90)"
            ]
          },
          "metadata": {}
        }
      ]
    },
    {
      "cell_type": "code",
      "source": [
        "from google.colab import files\n",
        "\n",
        "# Upload the audio file\n",
        "uploaded = files.upload()\n",
        "\n",
        "# The file will be saved with the same name as it is on your local machine.\n",
        "# You can access it by the key in the `uploaded` dictionary, which is the filename.\n",
        "audio_file_path = list(uploaded.keys())[0]\n"
      ],
      "metadata": {
        "colab": {
          "base_uri": "https://localhost:8080/",
          "height": 73
        },
        "id": "jgtYQhHQ6u50",
        "outputId": "1fbed77c-1320-4bd7-8808-24c673152723"
      },
      "execution_count": null,
      "outputs": [
        {
          "output_type": "display_data",
          "data": {
            "text/plain": [
              "<IPython.core.display.HTML object>"
            ],
            "text/html": [
              "\n",
              "     <input type=\"file\" id=\"files-50350253-aab8-4e68-990b-50f69eb50047\" name=\"files[]\" multiple disabled\n",
              "        style=\"border:none\" />\n",
              "     <output id=\"result-50350253-aab8-4e68-990b-50f69eb50047\">\n",
              "      Upload widget is only available when the cell has been executed in the\n",
              "      current browser session. Please rerun this cell to enable.\n",
              "      </output>\n",
              "      <script>// Copyright 2017 Google LLC\n",
              "//\n",
              "// Licensed under the Apache License, Version 2.0 (the \"License\");\n",
              "// you may not use this file except in compliance with the License.\n",
              "// You may obtain a copy of the License at\n",
              "//\n",
              "//      http://www.apache.org/licenses/LICENSE-2.0\n",
              "//\n",
              "// Unless required by applicable law or agreed to in writing, software\n",
              "// distributed under the License is distributed on an \"AS IS\" BASIS,\n",
              "// WITHOUT WARRANTIES OR CONDITIONS OF ANY KIND, either express or implied.\n",
              "// See the License for the specific language governing permissions and\n",
              "// limitations under the License.\n",
              "\n",
              "/**\n",
              " * @fileoverview Helpers for google.colab Python module.\n",
              " */\n",
              "(function(scope) {\n",
              "function span(text, styleAttributes = {}) {\n",
              "  const element = document.createElement('span');\n",
              "  element.textContent = text;\n",
              "  for (const key of Object.keys(styleAttributes)) {\n",
              "    element.style[key] = styleAttributes[key];\n",
              "  }\n",
              "  return element;\n",
              "}\n",
              "\n",
              "// Max number of bytes which will be uploaded at a time.\n",
              "const MAX_PAYLOAD_SIZE = 100 * 1024;\n",
              "\n",
              "function _uploadFiles(inputId, outputId) {\n",
              "  const steps = uploadFilesStep(inputId, outputId);\n",
              "  const outputElement = document.getElementById(outputId);\n",
              "  // Cache steps on the outputElement to make it available for the next call\n",
              "  // to uploadFilesContinue from Python.\n",
              "  outputElement.steps = steps;\n",
              "\n",
              "  return _uploadFilesContinue(outputId);\n",
              "}\n",
              "\n",
              "// This is roughly an async generator (not supported in the browser yet),\n",
              "// where there are multiple asynchronous steps and the Python side is going\n",
              "// to poll for completion of each step.\n",
              "// This uses a Promise to block the python side on completion of each step,\n",
              "// then passes the result of the previous step as the input to the next step.\n",
              "function _uploadFilesContinue(outputId) {\n",
              "  const outputElement = document.getElementById(outputId);\n",
              "  const steps = outputElement.steps;\n",
              "\n",
              "  const next = steps.next(outputElement.lastPromiseValue);\n",
              "  return Promise.resolve(next.value.promise).then((value) => {\n",
              "    // Cache the last promise value to make it available to the next\n",
              "    // step of the generator.\n",
              "    outputElement.lastPromiseValue = value;\n",
              "    return next.value.response;\n",
              "  });\n",
              "}\n",
              "\n",
              "/**\n",
              " * Generator function which is called between each async step of the upload\n",
              " * process.\n",
              " * @param {string} inputId Element ID of the input file picker element.\n",
              " * @param {string} outputId Element ID of the output display.\n",
              " * @return {!Iterable<!Object>} Iterable of next steps.\n",
              " */\n",
              "function* uploadFilesStep(inputId, outputId) {\n",
              "  const inputElement = document.getElementById(inputId);\n",
              "  inputElement.disabled = false;\n",
              "\n",
              "  const outputElement = document.getElementById(outputId);\n",
              "  outputElement.innerHTML = '';\n",
              "\n",
              "  const pickedPromise = new Promise((resolve) => {\n",
              "    inputElement.addEventListener('change', (e) => {\n",
              "      resolve(e.target.files);\n",
              "    });\n",
              "  });\n",
              "\n",
              "  const cancel = document.createElement('button');\n",
              "  inputElement.parentElement.appendChild(cancel);\n",
              "  cancel.textContent = 'Cancel upload';\n",
              "  const cancelPromise = new Promise((resolve) => {\n",
              "    cancel.onclick = () => {\n",
              "      resolve(null);\n",
              "    };\n",
              "  });\n",
              "\n",
              "  // Wait for the user to pick the files.\n",
              "  const files = yield {\n",
              "    promise: Promise.race([pickedPromise, cancelPromise]),\n",
              "    response: {\n",
              "      action: 'starting',\n",
              "    }\n",
              "  };\n",
              "\n",
              "  cancel.remove();\n",
              "\n",
              "  // Disable the input element since further picks are not allowed.\n",
              "  inputElement.disabled = true;\n",
              "\n",
              "  if (!files) {\n",
              "    return {\n",
              "      response: {\n",
              "        action: 'complete',\n",
              "      }\n",
              "    };\n",
              "  }\n",
              "\n",
              "  for (const file of files) {\n",
              "    const li = document.createElement('li');\n",
              "    li.append(span(file.name, {fontWeight: 'bold'}));\n",
              "    li.append(span(\n",
              "        `(${file.type || 'n/a'}) - ${file.size} bytes, ` +\n",
              "        `last modified: ${\n",
              "            file.lastModifiedDate ? file.lastModifiedDate.toLocaleDateString() :\n",
              "                                    'n/a'} - `));\n",
              "    const percent = span('0% done');\n",
              "    li.appendChild(percent);\n",
              "\n",
              "    outputElement.appendChild(li);\n",
              "\n",
              "    const fileDataPromise = new Promise((resolve) => {\n",
              "      const reader = new FileReader();\n",
              "      reader.onload = (e) => {\n",
              "        resolve(e.target.result);\n",
              "      };\n",
              "      reader.readAsArrayBuffer(file);\n",
              "    });\n",
              "    // Wait for the data to be ready.\n",
              "    let fileData = yield {\n",
              "      promise: fileDataPromise,\n",
              "      response: {\n",
              "        action: 'continue',\n",
              "      }\n",
              "    };\n",
              "\n",
              "    // Use a chunked sending to avoid message size limits. See b/62115660.\n",
              "    let position = 0;\n",
              "    do {\n",
              "      const length = Math.min(fileData.byteLength - position, MAX_PAYLOAD_SIZE);\n",
              "      const chunk = new Uint8Array(fileData, position, length);\n",
              "      position += length;\n",
              "\n",
              "      const base64 = btoa(String.fromCharCode.apply(null, chunk));\n",
              "      yield {\n",
              "        response: {\n",
              "          action: 'append',\n",
              "          file: file.name,\n",
              "          data: base64,\n",
              "        },\n",
              "      };\n",
              "\n",
              "      let percentDone = fileData.byteLength === 0 ?\n",
              "          100 :\n",
              "          Math.round((position / fileData.byteLength) * 100);\n",
              "      percent.textContent = `${percentDone}% done`;\n",
              "\n",
              "    } while (position < fileData.byteLength);\n",
              "  }\n",
              "\n",
              "  // All done.\n",
              "  yield {\n",
              "    response: {\n",
              "      action: 'complete',\n",
              "    }\n",
              "  };\n",
              "}\n",
              "\n",
              "scope.google = scope.google || {};\n",
              "scope.google.colab = scope.google.colab || {};\n",
              "scope.google.colab._files = {\n",
              "  _uploadFiles,\n",
              "  _uploadFilesContinue,\n",
              "};\n",
              "})(self);\n",
              "</script> "
            ]
          },
          "metadata": {}
        },
        {
          "output_type": "stream",
          "name": "stdout",
          "text": [
            "Saving Deep_Test.m4a to Deep_Test.m4a\n"
          ]
        }
      ]
    },
    {
      "cell_type": "code",
      "source": [
        "import requests\n",
        "\n",
        "# Your Deepgram API key\n",
        "DEEPGRAM_API_KEY = 'a983f9ca4ed091a6b86242b903a2c64de3e75bec'\n",
        "\n",
        "# API Endpoint for transcription\n",
        "DEEPGRAM_API_URL = \"https://api.deepgram.com/v1/listen\"\n",
        "\n",
        "# Transcribe audio function using Deepgram API (HTTP request for version 3)\n",
        "def transcribe_audio(file_path):\n",
        "    with open(file_path, 'rb') as audio:\n",
        "        # HTTP headers\n",
        "        headers = {\n",
        "            'Authorization': f'Token {DEEPGRAM_API_KEY}',\n",
        "            'Content-Type': 'audio/wav',  # Adjust this if your file is not .wav\n",
        "        }\n",
        "\n",
        "        # Send the audio to Deepgram's API\n",
        "        response = requests.post(DEEPGRAM_API_URL, headers=headers, data=audio)\n",
        "\n",
        "        if response.status_code == 200:\n",
        "            # Extract the transcription from the response\n",
        "            transcript = response.json()['results']['channels'][0]['alternatives'][0]['transcript']\n",
        "            print(\"Transcription: \", transcript)\n",
        "\n",
        "            # Save transcription to a .txt file\n",
        "            with open(\"transcription.txt\", \"w\") as f:\n",
        "                f.write(transcript)\n",
        "            print(\"Transcription saved to transcription.txt\")\n",
        "        else:\n",
        "            print(f\"Error: {response.status_code}, {response.text}\")\n",
        "\n",
        "# Transcribe the uploaded audio file\n",
        "transcribe_audio(audio_file_path)\n"
      ],
      "metadata": {
        "colab": {
          "base_uri": "https://localhost:8080/"
        },
        "id": "RRM8AygI6zxM",
        "outputId": "a7fc7dea-67fb-425e-bddb-61b657b5c739"
      },
      "execution_count": null,
      "outputs": [
        {
          "output_type": "stream",
          "name": "stdout",
          "text": [
            "Transcription:  hi i'm we are testing the deepgram api please give me the transcription of what i'm talking right now this is for a project in deep learning spearheaded by professor chen there are other team members in this project like s uc ash and bar we are all working on different elements in the project and we are trying to test different api and see if they work fine we are in the initial stages of the project we are trying to figure out things okay\n",
            "Transcription saved to transcription.txt\n"
          ]
        }
      ]
    },
    {
      "cell_type": "code",
      "source": [
        "from google.colab import files\n",
        "\n",
        "# Download the transcription.txt file\n",
        "files.download('transcription.txt')\n"
      ],
      "metadata": {
        "id": "MmfDTtQf6-kT",
        "outputId": "4a3d92c1-1151-4f47-ce6d-d121af51ce06",
        "colab": {
          "base_uri": "https://localhost:8080/",
          "height": 34
        }
      },
      "execution_count": null,
      "outputs": [
        {
          "output_type": "display_data",
          "data": {
            "text/plain": [
              "<IPython.core.display.Javascript object>"
            ],
            "application/javascript": [
              "\n",
              "    async function download(id, filename, size) {\n",
              "      if (!google.colab.kernel.accessAllowed) {\n",
              "        return;\n",
              "      }\n",
              "      const div = document.createElement('div');\n",
              "      const label = document.createElement('label');\n",
              "      label.textContent = `Downloading \"${filename}\": `;\n",
              "      div.appendChild(label);\n",
              "      const progress = document.createElement('progress');\n",
              "      progress.max = size;\n",
              "      div.appendChild(progress);\n",
              "      document.body.appendChild(div);\n",
              "\n",
              "      const buffers = [];\n",
              "      let downloaded = 0;\n",
              "\n",
              "      const channel = await google.colab.kernel.comms.open(id);\n",
              "      // Send a message to notify the kernel that we're ready.\n",
              "      channel.send({})\n",
              "\n",
              "      for await (const message of channel.messages) {\n",
              "        // Send a message to notify the kernel that we're ready.\n",
              "        channel.send({})\n",
              "        if (message.buffers) {\n",
              "          for (const buffer of message.buffers) {\n",
              "            buffers.push(buffer);\n",
              "            downloaded += buffer.byteLength;\n",
              "            progress.value = downloaded;\n",
              "          }\n",
              "        }\n",
              "      }\n",
              "      const blob = new Blob(buffers, {type: 'application/binary'});\n",
              "      const a = document.createElement('a');\n",
              "      a.href = window.URL.createObjectURL(blob);\n",
              "      a.download = filename;\n",
              "      div.appendChild(a);\n",
              "      a.click();\n",
              "      div.remove();\n",
              "    }\n",
              "  "
            ]
          },
          "metadata": {}
        },
        {
          "output_type": "display_data",
          "data": {
            "text/plain": [
              "<IPython.core.display.Javascript object>"
            ],
            "application/javascript": [
              "download(\"download_a48b9078-4de3-464e-bdce-509cbd77ee6f\", \"transcription.txt\", 443)"
            ]
          },
          "metadata": {}
        }
      ]
    }
  ]
}